{
 "cells": [
  {
   "cell_type": "code",
   "execution_count": null,
   "id": "36e53a4f-1c54-4097-8490-21da27e7ef4d",
   "metadata": {},
   "outputs": [],
   "source": []
  }
 ],
 "metadata": {
  "kernelspec": {
   "display_name": "",
   "name": ""
  },
  "language_info": {
   "name": ""
  }
 },
 "nbformat": 4,
 "nbformat_minor": 5
}
