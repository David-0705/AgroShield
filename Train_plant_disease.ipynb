{
 "cells": [
  {
   "cell_type": "markdown",
   "id": "197e5d07-d47a-4fa2-8db9-3ab3bf82e870",
   "metadata": {},
   "source": [
    "Importing Libraries"
   ]
  },
  {
   "cell_type": "code",
   "execution_count": 1,
   "id": "8523472a",
   "metadata": {},
   "outputs": [
    {
     "name": "stderr",
     "output_type": "stream",
     "text": [
      "c:\\Users\\david\\Code\\Cotton\\envVir\\Lib\\site-packages\\tqdm\\auto.py:21: TqdmWarning: IProgress not found. Please update jupyter and ipywidgets. See https://ipywidgets.readthedocs.io/en/stable/user_install.html\n",
      "  from .autonotebook import tqdm as notebook_tqdm\n"
     ]
    }
   ],
   "source": [
    "import tensorflow as tf\n",
    "import matplotlib.pyplot as plt\n",
    "import pandas as pd\n",
    "import seaborn as sns\n",
    "import kagglehub as kh"
   ]
  },
  {
   "cell_type": "code",
   "execution_count": 2,
   "id": "ccf40977-3683-4a2f-9e45-2c8a768cab1b",
   "metadata": {},
   "outputs": [
    {
     "name": "stdout",
     "output_type": "stream",
     "text": [
      "Path to dataset files: C:\\Users\\david\\.cache\\kagglehub\\datasets\\seroshkarim\\cotton-leaf-disease-dataset\\versions\\1\n"
     ]
    }
   ],
   "source": [
    "path = kh.dataset_download(\"seroshkarim/cotton-leaf-disease-dataset\")\n",
    "\n",
    "print(\"Path to dataset files:\", path)"
   ]
  },
  {
   "cell_type": "markdown",
   "id": "0b804d0c-e4f8-4e5d-bf41-fe8ffef9ec04",
   "metadata": {},
   "source": [
    "Data Preprocessing\n",
    "Training Image Processing"
   ]
  },
  {
   "cell_type": "code",
   "execution_count": 3,
   "id": "3e1d4d1c-434f-4ad7-b23a-3fb315e8f292",
   "metadata": {},
   "outputs": [
    {
     "name": "stdout",
     "output_type": "stream",
     "text": [
      "Found 1710 files belonging to 4 classes.\n"
     ]
    }
   ],
   "source": [
    "training_set = tf.keras.utils.image_dataset_from_directory(\n",
    "    'cottonImage',\n",
    "    labels=\"inferred\",\n",
    "    label_mode=\"categorical\",\n",
    "    class_names=None,\n",
    "    color_mode=\"rgb\",\n",
    "    batch_size=32,\n",
    "    image_size=(256,256),\n",
    "    shuffle=True,\n",
    "    seed=None,\n",
    "    validation_split=None,\n",
    "    subset=None,\n",
    "    interpolation=\"bilinear\",\n",
    "    follow_links=False,\n",
    "    crop_to_aspect_ratio=False,\n",
    "    pad_to_aspect_ratio=False,\n",
    "    data_format=None,\n",
    "    verbose=True,\n",
    ")"
   ]
  },
  {
   "cell_type": "markdown",
   "id": "2506684b-3e5b-4b6a-a47a-8ed06e0fa513",
   "metadata": {},
   "source": [
    "Validation Image Preprocessing"
   ]
  },
  {
   "cell_type": "code",
   "execution_count": 4,
   "id": "6f7c3287-6bd4-426b-a07b-22f8b4f61f8b",
   "metadata": {},
   "outputs": [
    {
     "name": "stdout",
     "output_type": "stream",
     "text": [
      "Found 539 files belonging to 4 classes.\n"
     ]
    }
   ],
   "source": [
    "validation_set = tf.keras.utils.image_dataset_from_directory(\n",
    "    'val',\n",
    "    labels=\"inferred\",\n",
    "    label_mode=\"categorical\",\n",
    "    class_names=None,\n",
    "    color_mode=\"rgb\",\n",
    "    batch_size=32,\n",
    "    image_size=(256, 256),\n",
    "    shuffle=True,\n",
    "    seed=None,\n",
    "    validation_split=None,\n",
    "    subset=None,\n",
    "    interpolation=\"bilinear\",\n",
    "    follow_links=False,\n",
    "    crop_to_aspect_ratio=False,\n",
    "    pad_to_aspect_ratio=False,\n",
    "    data_format=None,\n",
    "    verbose=True,\n",
    ")"
   ]
  },
  {
   "cell_type": "code",
   "execution_count": 5,
   "id": "bc18a1a0-01e0-4a2f-8b40-255a31db986f",
   "metadata": {},
   "outputs": [
    {
     "data": {
      "text/plain": [
       "<_PrefetchDataset element_spec=(TensorSpec(shape=(None, 256, 256, 3), dtype=tf.float32, name=None), TensorSpec(shape=(None, 4), dtype=tf.float32, name=None))>"
      ]
     },
     "execution_count": 5,
     "metadata": {},
     "output_type": "execute_result"
    }
   ],
   "source": [
    "training_set\n"
   ]
  },
  {
   "cell_type": "code",
   "execution_count": 6,
   "id": "b0147c51-e7bd-49f4-b6f1-09cb022433a2",
   "metadata": {
    "scrolled": true
   },
   "outputs": [
    {
     "name": "stdout",
     "output_type": "stream",
     "text": [
      "tf.Tensor(\n",
      "[[[[1.58273239e+02 1.36273239e+02 7.92732391e+01]\n",
      "   [1.68456451e+02 1.46415436e+02 8.95384827e+01]\n",
      "   [1.70135864e+02 1.47135864e+02 9.31358719e+01]\n",
      "   ...\n",
      "   [1.32972824e+02 1.18109543e+02 7.54799576e+01]\n",
      "   [1.54548950e+02 1.39548950e+02 9.65622559e+01]\n",
      "   [1.68762512e+02 1.51789856e+02 1.07963417e+02]]\n",
      "\n",
      "  [[2.05582825e+02 1.83582825e+02 1.26582825e+02]\n",
      "   [1.96367477e+02 1.74326462e+02 1.17449509e+02]\n",
      "   [1.76399765e+02 1.53399765e+02 9.93997650e+01]\n",
      "   ...\n",
      "   [1.27774025e+02 1.13397072e+02 7.33013687e+01]\n",
      "   [1.31480713e+02 1.17433426e+02 7.50217361e+01]\n",
      "   [1.42020325e+02 1.26020325e+02 8.39863281e+01]]\n",
      "\n",
      "  [[2.22697433e+02 1.99886887e+02 1.45318527e+02]\n",
      "   [2.23631027e+02 2.00812714e+02 1.46267670e+02]\n",
      "   [2.04330795e+02 1.81330795e+02 1.27330795e+02]\n",
      "   ...\n",
      "   [1.18212196e+02 1.04348915e+02 6.69016495e+01]\n",
      "   [1.20945023e+02 1.07126701e+02 6.76481476e+01]\n",
      "   [1.39794113e+02 1.24810379e+02 8.54288788e+01]]\n",
      "\n",
      "  ...\n",
      "\n",
      "  [[2.02918610e+02 2.51865875e+02 1.41539703e+02]\n",
      "   [2.03113235e+02 2.52027252e+02 1.41816360e+02]\n",
      "   [2.03444595e+02 2.51431641e+02 1.44010284e+02]\n",
      "   ...\n",
      "   [1.92430740e+02 1.83433411e+02 1.23986145e+02]\n",
      "   [1.93056854e+02 1.83090088e+02 1.23711189e+02]\n",
      "   [2.01691956e+02 1.91691956e+02 1.30714127e+02]]\n",
      "\n",
      "  [[1.93500000e+02 2.47527344e+02 1.29986328e+02]\n",
      "   [1.94527344e+02 2.48554688e+02 1.31095703e+02]\n",
      "   [1.95621185e+02 2.49513672e+02 1.34177734e+02]\n",
      "   ...\n",
      "   [1.78154755e+02 1.68221252e+02 1.07188004e+02]\n",
      "   [1.86347778e+02 1.76347778e+02 1.15347778e+02]\n",
      "   [1.92191452e+02 1.82191452e+02 1.21191452e+02]]\n",
      "\n",
      "  [[1.91337891e+02 2.48851562e+02 1.28187241e+02]\n",
      "   [1.92365234e+02 2.49844543e+02 1.30123047e+02]\n",
      "   [1.93392578e+02 2.50057281e+02 1.33205078e+02]\n",
      "   ...\n",
      "   [1.59724136e+02 1.49724136e+02 8.87241364e+01]\n",
      "   [1.72162903e+02 1.62162903e+02 1.01162903e+02]\n",
      "   [1.80539062e+02 1.70539062e+02 1.09539062e+02]]]\n",
      "\n",
      "\n",
      " [[[8.23593750e+01 1.01359375e+02 8.13593750e+01]\n",
      "   [5.54046631e+01 7.44046631e+01 5.44046631e+01]\n",
      "   [3.16960754e+01 5.27878723e+01 3.06960754e+01]\n",
      "   ...\n",
      "   [2.27246857e+01 3.23301544e+01 1.56589050e+01]\n",
      "   [1.81130829e+01 2.91286926e+01 1.35623016e+01]\n",
      "   [7.57031250e+00 1.86562500e+01 4.65625000e+00]]\n",
      "\n",
      "  [[2.47500000e+01 4.37500000e+01 2.37500000e+01]\n",
      "   [1.91237793e+01 3.81237793e+01 1.81237793e+01]\n",
      "   [2.23255157e+01 4.34173126e+01 2.13255157e+01]\n",
      "   ...\n",
      "   [6.43328857e+00 1.62421875e+01 1.03500366e+00]\n",
      "   [2.83393860e+00 1.34999542e+01 1.34811401e-01]\n",
      "   [2.22656250e+00 1.37109375e+01 7.42187500e-01]]\n",
      "\n",
      "  [[4.43750000e+00 2.34375000e+01 3.43750000e+00]\n",
      "   [5.71618652e+00 2.47161865e+01 4.01290894e+00]\n",
      "   [1.65515900e+01 3.76433868e+01 1.52914276e+01]\n",
      "   ...\n",
      "   [7.95318604e-01 1.13199310e+01 0.00000000e+00]\n",
      "   [0.00000000e+00 9.61132812e+00 0.00000000e+00]\n",
      "   [0.00000000e+00 1.04296875e+01 0.00000000e+00]]\n",
      "\n",
      "  ...\n",
      "\n",
      "  [[5.67421875e+01 5.97421875e+01 5.07421875e+01]\n",
      "   [5.59174347e+01 5.89174347e+01 4.99174347e+01]\n",
      "   [3.35144806e+01 3.65144806e+01 2.61199493e+01]\n",
      "   ...\n",
      "   [3.90988159e+01 3.62288971e+01 2.04335785e+01]\n",
      "   [3.96814117e+01 3.71891479e+01 2.17478180e+01]\n",
      "   [3.82812500e+01 3.61406250e+01 1.87109375e+01]]\n",
      "\n",
      "  [[2.67031250e+01 2.97031250e+01 2.07031250e+01]\n",
      "   [3.31988525e+01 3.61988525e+01 2.71988525e+01]\n",
      "   [2.02922058e+01 2.32922058e+01 1.28976746e+01]\n",
      "   ...\n",
      "   [4.55860138e+01 4.03594513e+01 2.42577362e+01]\n",
      "   [4.72459564e+01 4.20193939e+01 2.61835480e+01]\n",
      "   [4.29687500e+01 3.77421875e+01 2.14843750e+01]]\n",
      "\n",
      "  [[9.03125000e+00 1.20312500e+01 3.03125000e+00]\n",
      "   [2.02069702e+01 2.32069702e+01 1.42069702e+01]\n",
      "   [1.33234406e+01 1.63234406e+01 5.92890930e+00]\n",
      "   ...\n",
      "   [4.67414093e+01 3.98273468e+01 2.38273468e+01]\n",
      "   [4.55859680e+01 3.88379364e+01 2.28379364e+01]\n",
      "   [4.21718750e+01 3.61718750e+01 2.01718750e+01]]]\n",
      "\n",
      "\n",
      " [[[1.63946548e+02 2.11946548e+02 2.51946548e+02]\n",
      "   [1.62978119e+02 2.10978119e+02 2.50978119e+02]\n",
      "   [1.62351562e+02 2.10351562e+02 2.50351562e+02]\n",
      "   ...\n",
      "   [1.70302734e+02 2.14000000e+02 2.48697266e+02]\n",
      "   [1.70000000e+02 2.14000000e+02 2.49000000e+02]\n",
      "   [1.70000000e+02 2.14000000e+02 2.50878906e+02]]\n",
      "\n",
      "  [[1.64021286e+02 2.12021286e+02 2.52021286e+02]\n",
      "   [1.64533203e+02 2.12533203e+02 2.52533203e+02]\n",
      "   [1.65457993e+02 2.13457993e+02 2.53457993e+02]\n",
      "   ...\n",
      "   [1.70547867e+02 2.14351562e+02 2.49155258e+02]\n",
      "   [1.70351562e+02 2.14351562e+02 2.49351562e+02]\n",
      "   [1.70021286e+02 2.14021286e+02 2.50900192e+02]]\n",
      "\n",
      "  [[1.64611008e+02 2.12611008e+02 2.52611008e+02]\n",
      "   [1.65181641e+02 2.13181641e+02 2.53181641e+02]\n",
      "   [1.66302734e+02 2.14302734e+02 2.54302734e+02]\n",
      "   ...\n",
      "   [1.72171875e+02 2.16171875e+02 2.51171875e+02]\n",
      "   [1.71692368e+02 2.15692368e+02 2.50692368e+02]\n",
      "   [1.71196945e+02 2.15196945e+02 2.52075851e+02]]\n",
      "\n",
      "  ...\n",
      "\n",
      "  [[1.39190186e+02 1.05240967e+02 5.64525452e+01]\n",
      "   [1.26085999e+02 9.99219666e+01 4.73428192e+01]\n",
      "   [9.73226624e+01 8.43670349e+01 2.52699280e+01]\n",
      "   ...\n",
      "   [7.73283691e+01 1.15935791e+02 9.19525146e+00]\n",
      "   [1.03711243e+02 1.45541290e+02 3.35754852e+01]\n",
      "   [1.12133286e+02 1.55027496e+02 3.94617310e+01]]\n",
      "\n",
      "  [[1.32213516e+02 9.10615692e+01 5.43584442e+01]\n",
      "   [1.36379501e+02 1.04443954e+02 6.21765442e+01]\n",
      "   [1.06131668e+02 8.84841614e+01 3.59587708e+01]\n",
      "   ...\n",
      "   [1.13630112e+02 1.43927017e+02 3.92756348e+01]\n",
      "   [1.20233963e+02 1.53789246e+02 4.73499603e+01]\n",
      "   [1.07716995e+02 1.43099411e+02 3.37988281e+01]]\n",
      "\n",
      "  [[1.29413742e+02 8.50790405e+01 5.50905609e+01]\n",
      "   [1.40961502e+02 1.05834747e+02 6.77626801e+01]\n",
      "   [1.02368118e+02 8.24670868e+01 3.37291260e+01]\n",
      "   ...\n",
      "   [1.13311340e+02 1.37825653e+02 3.68585358e+01]\n",
      "   [1.05369141e+02 1.33175781e+02 3.04005890e+01]\n",
      "   [1.14530701e+02 1.43102448e+02 3.96549835e+01]]]\n",
      "\n",
      "\n",
      " ...\n",
      "\n",
      "\n",
      " [[[2.38000000e+02 2.36000000e+02 2.39000000e+02]\n",
      "   [2.38000000e+02 2.36000000e+02 2.37832031e+02]\n",
      "   [2.38000000e+02 2.36306641e+02 2.36386719e+02]\n",
      "   ...\n",
      "   [1.88986328e+02 1.99373047e+02 1.62746094e+02]\n",
      "   [1.70023438e+02 1.81439453e+02 1.37279297e+02]\n",
      "   [1.49000000e+02 1.61000000e+02 1.11000000e+02]]\n",
      "\n",
      "  [[2.38000000e+02 2.36000000e+02 2.39000000e+02]\n",
      "   [2.38000000e+02 2.36000000e+02 2.37832031e+02]\n",
      "   [2.38000000e+02 2.36306641e+02 2.36386719e+02]\n",
      "   ...\n",
      "   [1.81788940e+02 1.91931519e+02 1.56525269e+02]\n",
      "   [1.62494171e+02 1.73767624e+02 1.30726593e+02]\n",
      "   [1.42896484e+02 1.54896484e+02 1.05873047e+02]]\n",
      "\n",
      "  [[2.38000000e+02 2.36000000e+02 2.39000000e+02]\n",
      "   [2.38000000e+02 2.36000000e+02 2.37832031e+02]\n",
      "   [2.38000000e+02 2.36306641e+02 2.36386719e+02]\n",
      "   ...\n",
      "   [1.67163879e+02 1.76810364e+02 1.43884583e+02]\n",
      "   [1.47194733e+02 1.58178452e+02 1.17411522e+02]\n",
      "   [1.30494141e+02 1.42494141e+02 9.54550781e+01]]\n",
      "\n",
      "  ...\n",
      "\n",
      "  [[1.21425781e+01 4.11425781e+01 0.00000000e+00]\n",
      "   [1.87409172e+01 4.90605850e+01 1.51699066e-01]\n",
      "   [3.42930107e+01 6.56324310e+01 9.88480759e+00]\n",
      "   ...\n",
      "   [8.98806000e+01 1.19087204e+02 4.85145187e+01]\n",
      "   [4.99166222e+01 8.07050171e+01 2.16855087e+01]\n",
      "   [2.17792969e+01 5.40390625e+01 2.74023438e+00]]\n",
      "\n",
      "  [[6.68554688e+00 3.56855469e+01 0.00000000e+00]\n",
      "   [1.47324409e+01 4.53418198e+01 4.41410065e-01]\n",
      "   [2.56879158e+01 5.76755524e+01 4.75236893e+00]\n",
      "   ...\n",
      "   [8.72877350e+01 1.16150375e+02 4.47376175e+01]\n",
      "   [4.93769264e+01 8.00820007e+01 1.94511490e+01]\n",
      "   [2.32675781e+01 5.60234375e+01 2.24414062e+00]]\n",
      "\n",
      "  [[4.00000000e+00 3.30000000e+01 0.00000000e+00]\n",
      "   [1.27597656e+01 4.35117188e+01 5.83984375e-01]\n",
      "   [2.14531250e+01 5.37597656e+01 2.22656250e+00]\n",
      "   ...\n",
      "   [8.60117188e+01 1.14705078e+02 4.28789062e+01]\n",
      "   [4.91113281e+01 7.97753906e+01 1.83515625e+01]\n",
      "   [2.40000000e+01 5.70000000e+01 2.00000000e+00]]]\n",
      "\n",
      "\n",
      " [[[1.11007812e+02 7.80078125e+01 3.50078125e+01]\n",
      "   [1.11976562e+02 7.89531250e+01 3.59062500e+01]\n",
      "   [1.10882812e+02 7.68828125e+01 3.18828125e+01]\n",
      "   ...\n",
      "   [1.09789062e+02 8.98281250e+01 3.72187500e+01]\n",
      "   [1.36390625e+02 1.16390625e+02 6.33906250e+01]\n",
      "   [1.42953125e+02 1.22953125e+02 6.99531250e+01]]\n",
      "\n",
      "  [[1.09102631e+02 7.61026306e+01 3.31026306e+01]\n",
      "   [1.10718048e+02 7.76796875e+01 3.46775818e+01]\n",
      "   [1.10270966e+02 7.56591187e+01 3.24946594e+01]\n",
      "   ...\n",
      "   [1.09764191e+02 8.98032532e+01 3.71938782e+01]\n",
      "   [1.37634216e+02 1.17634216e+02 6.58778076e+01]\n",
      "   [1.44858307e+02 1.24858307e+02 7.18682556e+01]]\n",
      "\n",
      "  [[1.06437500e+02 7.34375000e+01 3.12203979e+01]\n",
      "   [1.08440369e+02 7.53934937e+01 3.24169312e+01]\n",
      "   [1.09148224e+02 7.41718750e+01 3.21009216e+01]\n",
      "   ...\n",
      "   [1.07398224e+02 8.85746460e+01 3.63598022e+01]\n",
      "   [1.37132416e+02 1.17930725e+02 6.72783813e+01]\n",
      "   [1.45544617e+02 1.26725128e+02 7.41352844e+01]]\n",
      "\n",
      "  ...\n",
      "\n",
      "  [[2.53006165e+02 2.52611633e+02 2.55000000e+02]\n",
      "   [2.53728638e+02 2.53343353e+02 2.54929688e+02]\n",
      "   [2.51133881e+02 2.51133881e+02 2.51861298e+02]\n",
      "   ...\n",
      "   [1.15372803e+02 1.47158386e+02 8.08882141e+01]\n",
      "   [1.24979279e+02 1.56795685e+02 9.05574036e+01]\n",
      "   [1.31729858e+02 1.63546265e+02 9.73079834e+01]]\n",
      "\n",
      "  [[2.53000000e+02 2.53000000e+02 2.54273438e+02]\n",
      "   [2.52976562e+02 2.52976562e+02 2.54220154e+02]\n",
      "   [2.52000000e+02 2.52000000e+02 2.52000000e+02]\n",
      "   ...\n",
      "   [1.00847656e+02 1.34951691e+02 6.40429688e+01]\n",
      "   [1.06863281e+02 1.40953125e+02 7.01367188e+01]\n",
      "   [1.11604401e+02 1.45694244e+02 7.48778381e+01]]\n",
      "\n",
      "  [[2.53000000e+02 2.53000000e+02 2.53000000e+02]\n",
      "   [2.52976562e+02 2.52976562e+02 2.52976562e+02]\n",
      "   [2.52000000e+02 2.52000000e+02 2.52000000e+02]\n",
      "   ...\n",
      "   [9.38437500e+01 1.29882812e+02 5.57656250e+01]\n",
      "   [9.98593750e+01 1.35859375e+02 6.18593750e+01]\n",
      "   [1.03968750e+02 1.39968750e+02 6.59687500e+01]]]\n",
      "\n",
      "\n",
      " [[[2.50968750e+02 2.54312500e+02 2.54656250e+02]\n",
      "   [2.50687500e+02 2.54343750e+02 2.53687500e+02]\n",
      "   [2.51375000e+02 2.53031250e+02 2.50375000e+02]\n",
      "   ...\n",
      "   [6.62500000e+01 6.92500000e+01 4.89375000e+01]\n",
      "   [5.99062500e+01 6.95625000e+01 4.59375000e+01]\n",
      "   [5.97812500e+01 7.67812500e+01 3.34687500e+01]]\n",
      "\n",
      "  [[2.51093750e+02 2.52093750e+02 2.54031250e+02]\n",
      "   [2.52812500e+02 2.54812500e+02 2.53812500e+02]\n",
      "   [2.52781250e+02 2.54781250e+02 2.51781250e+02]\n",
      "   ...\n",
      "   [7.90625000e+00 9.84375000e+00 9.37500000e-02]\n",
      "   [1.00000000e+00 8.96875000e+00 0.00000000e+00]\n",
      "   [3.93750000e+01 5.53437500e+01 1.85312500e+01]]\n",
      "\n",
      "  [[2.49687500e+02 2.49968750e+02 2.48531250e+02]\n",
      "   [2.46281250e+02 2.46843750e+02 2.45125000e+02]\n",
      "   [2.45281250e+02 2.45843750e+02 2.45000000e+02]\n",
      "   ...\n",
      "   [1.40625000e+00 1.40625000e+00 3.71875000e+00]\n",
      "   [2.81250000e-01 5.12500000e+00 1.43750000e+00]\n",
      "   [4.95625000e+01 6.38437500e+01 3.71562500e+01]]\n",
      "\n",
      "  ...\n",
      "\n",
      "  [[2.41000000e+02 2.44000000e+02 2.51000000e+02]\n",
      "   [2.41000000e+02 2.44000000e+02 2.51000000e+02]\n",
      "   [2.41000000e+02 2.44000000e+02 2.51000000e+02]\n",
      "   ...\n",
      "   [9.64375000e+01 1.06437500e+02 4.64375000e+01]\n",
      "   [9.91562500e+01 1.18718750e+02 5.30000000e+01]\n",
      "   [1.03281250e+02 1.28281250e+02 6.08437500e+01]]\n",
      "\n",
      "  [[2.41000000e+02 2.44000000e+02 2.51000000e+02]\n",
      "   [2.41000000e+02 2.44000000e+02 2.51000000e+02]\n",
      "   [2.41000000e+02 2.44000000e+02 2.51000000e+02]\n",
      "   ...\n",
      "   [9.30625000e+01 1.02093750e+02 4.50000000e+01]\n",
      "   [9.60312500e+01 1.17031250e+02 5.20312500e+01]\n",
      "   [1.04000000e+02 1.30937500e+02 6.39687500e+01]]\n",
      "\n",
      "  [[2.41000000e+02 2.44000000e+02 2.51000000e+02]\n",
      "   [2.41000000e+02 2.44000000e+02 2.51000000e+02]\n",
      "   [2.41000000e+02 2.44000000e+02 2.51000000e+02]\n",
      "   ...\n",
      "   [9.03437500e+01 1.01343750e+02 4.53437500e+01]\n",
      "   [9.33437500e+01 1.14656250e+02 5.10000000e+01]\n",
      "   [1.04656250e+02 1.30656250e+02 6.56562500e+01]]]], shape=(32, 256, 256, 3), dtype=float32) (32, 256, 256, 3)\n",
      "tf.Tensor(\n",
      "[[0. 0. 0. 1.]\n",
      " [1. 0. 0. 0.]\n",
      " [0. 0. 0. 1.]\n",
      " [0. 0. 1. 0.]\n",
      " [0. 1. 0. 0.]\n",
      " [0. 0. 1. 0.]\n",
      " [0. 0. 0. 1.]\n",
      " [0. 1. 0. 0.]\n",
      " [0. 0. 0. 1.]\n",
      " [1. 0. 0. 0.]\n",
      " [0. 0. 1. 0.]\n",
      " [0. 0. 0. 1.]\n",
      " [0. 1. 0. 0.]\n",
      " [0. 0. 0. 1.]\n",
      " [0. 0. 1. 0.]\n",
      " [1. 0. 0. 0.]\n",
      " [0. 0. 0. 1.]\n",
      " [0. 1. 0. 0.]\n",
      " [1. 0. 0. 0.]\n",
      " [0. 0. 0. 1.]\n",
      " [1. 0. 0. 0.]\n",
      " [1. 0. 0. 0.]\n",
      " [0. 0. 1. 0.]\n",
      " [0. 0. 0. 1.]\n",
      " [1. 0. 0. 0.]\n",
      " [0. 0. 1. 0.]\n",
      " [1. 0. 0. 0.]\n",
      " [0. 0. 1. 0.]\n",
      " [0. 1. 0. 0.]\n",
      " [0. 1. 0. 0.]\n",
      " [0. 1. 0. 0.]\n",
      " [1. 0. 0. 0.]], shape=(32, 4), dtype=float32) (32, 4)\n"
     ]
    }
   ],
   "source": [
    "for x,y in training_set:\n",
    "     print(x,x.shape)\n",
    "     print(y,y.shape)\n",
    "     break"
   ]
  },
  {
   "cell_type": "markdown",
   "id": "53403d3f-5897-42ba-85e6-1624b44f457e",
   "metadata": {},
   "source": [
    "Building Model"
   ]
  },
  {
   "cell_type": "code",
   "execution_count": 7,
   "id": "da25303c-a8fd-42fe-ac52-d633e1834e6a",
   "metadata": {},
   "outputs": [],
   "source": [
    "\n",
    "from tensorflow.keras.layers import Conv2D, MaxPooling2D, Flatten, Dense, Dropout\n",
    "from tensorflow.keras.models import Sequential"
   ]
  },
  {
   "cell_type": "code",
   "execution_count": 8,
   "id": "94ca3648-1707-475d-a214-0457d42f1ff6",
   "metadata": {},
   "outputs": [],
   "source": [
    "model = Sequential()"
   ]
  },
  {
   "cell_type": "code",
   "execution_count": 9,
   "id": "3af432d5-1fed-4757-8d72-43049f57dc7d",
   "metadata": {},
   "outputs": [],
   "source": [
    "## Building Convolution layer"
   ]
  },
  {
   "cell_type": "code",
   "execution_count": 10,
   "id": "0925df5c-c11f-402d-830e-ff35919738ad",
   "metadata": {},
   "outputs": [
    {
     "name": "stderr",
     "output_type": "stream",
     "text": [
      "c:\\Users\\david\\Code\\Cotton\\envVir\\Lib\\site-packages\\keras\\src\\layers\\convolutional\\base_conv.py:107: UserWarning: Do not pass an `input_shape`/`input_dim` argument to a layer. When using Sequential models, prefer using an `Input(shape)` object as the first layer in the model instead.\n",
      "  super().__init__(activity_regularizer=activity_regularizer, **kwargs)\n"
     ]
    }
   ],
   "source": [
    "model.add(Conv2D(filters=32, kernel_size=3, padding='same', activation='relu', input_shape=(256, 256, 3)))\n",
    "model.add(Conv2D(filters=32, kernel_size=3, activation='relu'))\n",
    "model.add(MaxPooling2D(pool_size=2, strides=2))"
   ]
  },
  {
   "cell_type": "code",
   "execution_count": 11,
   "id": "c9a4c0b5-e1bf-4122-897a-abc29fa4a700",
   "metadata": {},
   "outputs": [],
   "source": [
    "model.add(Conv2D(filters=64, kernel_size=3, padding='same', activation='relu'))\n",
    "model.add(Conv2D(filters=64, kernel_size=3, activation='relu'))\n",
    "model.add(MaxPooling2D(pool_size=2, strides=2))"
   ]
  },
  {
   "cell_type": "code",
   "execution_count": 12,
   "id": "f0a2bc1c-9a53-4452-95da-41f0be27346a",
   "metadata": {},
   "outputs": [],
   "source": [
    "model.add(Conv2D(filters=128, kernel_size=3, padding='same', activation='relu'))\n",
    "model.add(Conv2D(filters=128, kernel_size=3,activation='relu'))\n",
    "model.add(MaxPooling2D(pool_size=2, strides=2))"
   ]
  },
  {
   "cell_type": "code",
   "execution_count": 13,
   "id": "495db72f-0760-4309-af67-f507158c129e",
   "metadata": {},
   "outputs": [],
   "source": [
    "model.add(Conv2D(filters=256, kernel_size=3, padding='same', activation='relu'))\n",
    "model.add(Conv2D(filters=256, kernel_size=3, activation='relu'))\n",
    "model.add(MaxPooling2D(pool_size=2, strides=2))"
   ]
  },
  {
   "cell_type": "code",
   "execution_count": 14,
   "id": "eacc8a41-9197-4dfb-89ce-e8328c4373a7",
   "metadata": {},
   "outputs": [],
   "source": [
    "model.add(Conv2D(filters=512, kernel_size=3, padding='same', activation='relu'))\n",
    "model.add(Conv2D(filters=512, kernel_size=3, activation='relu'))\n",
    "model.add(MaxPooling2D(pool_size=2, strides=2))"
   ]
  },
  {
   "cell_type": "code",
   "execution_count": 15,
   "id": "25a21794-87b3-49fd-a957-ecf55a55a928",
   "metadata": {},
   "outputs": [],
   "source": [
    "model.add(Dropout(0.25))"
   ]
  },
  {
   "cell_type": "code",
   "execution_count": 16,
   "id": "9984db39",
   "metadata": {},
   "outputs": [],
   "source": [
    "model.add(Flatten())"
   ]
  },
  {
   "cell_type": "code",
   "execution_count": 17,
   "id": "7f2661ad-ca05-4c82-a832-23b9dc490e31",
   "metadata": {},
   "outputs": [],
   "source": [
    "model.add(tf.keras.layers.Dense(2048, activation=\"relu\"))  # Example: Adjust neurons"
   ]
  },
  {
   "cell_type": "code",
   "execution_count": 18,
   "id": "9ef180de-91b7-41e3-bc83-6f34eae510bf",
   "metadata": {},
   "outputs": [],
   "source": [
    "model.add(Dense(units=1500,activation='relu'))"
   ]
  },
  {
   "cell_type": "code",
   "execution_count": 19,
   "id": "a08afa4e-c6ca-408d-a885-234816b23301",
   "metadata": {},
   "outputs": [],
   "source": [
    "model.add(Dropout(0.4))"
   ]
  },
  {
   "cell_type": "code",
   "execution_count": 20,
   "id": "eff48e8f-d8b4-44b7-b62a-ded0774f5cc7",
   "metadata": {},
   "outputs": [],
   "source": [
    "model.add(Dense(units=4,activation='softmax'))"
   ]
  },
  {
   "cell_type": "markdown",
   "id": "7875f767-6c4f-4b29-9c90-656b8fcf4619",
   "metadata": {},
   "source": [
    "# Compiling Model"
   ]
  },
  {
   "cell_type": "code",
   "execution_count": 21,
   "id": "605fcd6e-2680-45e7-91d1-b8132aa48371",
   "metadata": {},
   "outputs": [],
   "source": [
    "model.compile(optimizer=tf.keras.optimizers.Adam(\n",
    "    learning_rate=0.0001),loss='categorical_crossentropy',metrics=['accuracy'])"
   ]
  },
  {
   "cell_type": "code",
   "execution_count": 22,
   "id": "c19fe763-7626-4de3-80ec-10945f08a28d",
   "metadata": {},
   "outputs": [
    {
     "data": {
      "text/html": [
       "<pre style=\"white-space:pre;overflow-x:auto;line-height:normal;font-family:Menlo,'DejaVu Sans Mono',consolas,'Courier New',monospace\"><span style=\"font-weight: bold\">Model: \"sequential\"</span>\n",
       "</pre>\n"
      ],
      "text/plain": [
       "\u001b[1mModel: \"sequential\"\u001b[0m\n"
      ]
     },
     "metadata": {},
     "output_type": "display_data"
    },
    {
     "data": {
      "text/html": [
       "<pre style=\"white-space:pre;overflow-x:auto;line-height:normal;font-family:Menlo,'DejaVu Sans Mono',consolas,'Courier New',monospace\">┏━━━━━━━━━━━━━━━━━━━━━━━━━━━━━━━━━┳━━━━━━━━━━━━━━━━━━━━━━━━┳━━━━━━━━━━━━━━━┓\n",
       "┃<span style=\"font-weight: bold\"> Layer (type)                    </span>┃<span style=\"font-weight: bold\"> Output Shape           </span>┃<span style=\"font-weight: bold\">       Param # </span>┃\n",
       "┡━━━━━━━━━━━━━━━━━━━━━━━━━━━━━━━━━╇━━━━━━━━━━━━━━━━━━━━━━━━╇━━━━━━━━━━━━━━━┩\n",
       "│ conv2d (<span style=\"color: #0087ff; text-decoration-color: #0087ff\">Conv2D</span>)                 │ (<span style=\"color: #00d7ff; text-decoration-color: #00d7ff\">None</span>, <span style=\"color: #00af00; text-decoration-color: #00af00\">256</span>, <span style=\"color: #00af00; text-decoration-color: #00af00\">256</span>, <span style=\"color: #00af00; text-decoration-color: #00af00\">32</span>)   │           <span style=\"color: #00af00; text-decoration-color: #00af00\">896</span> │\n",
       "├─────────────────────────────────┼────────────────────────┼───────────────┤\n",
       "│ conv2d_1 (<span style=\"color: #0087ff; text-decoration-color: #0087ff\">Conv2D</span>)               │ (<span style=\"color: #00d7ff; text-decoration-color: #00d7ff\">None</span>, <span style=\"color: #00af00; text-decoration-color: #00af00\">254</span>, <span style=\"color: #00af00; text-decoration-color: #00af00\">254</span>, <span style=\"color: #00af00; text-decoration-color: #00af00\">32</span>)   │         <span style=\"color: #00af00; text-decoration-color: #00af00\">9,248</span> │\n",
       "├─────────────────────────────────┼────────────────────────┼───────────────┤\n",
       "│ max_pooling2d (<span style=\"color: #0087ff; text-decoration-color: #0087ff\">MaxPooling2D</span>)    │ (<span style=\"color: #00d7ff; text-decoration-color: #00d7ff\">None</span>, <span style=\"color: #00af00; text-decoration-color: #00af00\">127</span>, <span style=\"color: #00af00; text-decoration-color: #00af00\">127</span>, <span style=\"color: #00af00; text-decoration-color: #00af00\">32</span>)   │             <span style=\"color: #00af00; text-decoration-color: #00af00\">0</span> │\n",
       "├─────────────────────────────────┼────────────────────────┼───────────────┤\n",
       "│ conv2d_2 (<span style=\"color: #0087ff; text-decoration-color: #0087ff\">Conv2D</span>)               │ (<span style=\"color: #00d7ff; text-decoration-color: #00d7ff\">None</span>, <span style=\"color: #00af00; text-decoration-color: #00af00\">127</span>, <span style=\"color: #00af00; text-decoration-color: #00af00\">127</span>, <span style=\"color: #00af00; text-decoration-color: #00af00\">64</span>)   │        <span style=\"color: #00af00; text-decoration-color: #00af00\">18,496</span> │\n",
       "├─────────────────────────────────┼────────────────────────┼───────────────┤\n",
       "│ conv2d_3 (<span style=\"color: #0087ff; text-decoration-color: #0087ff\">Conv2D</span>)               │ (<span style=\"color: #00d7ff; text-decoration-color: #00d7ff\">None</span>, <span style=\"color: #00af00; text-decoration-color: #00af00\">125</span>, <span style=\"color: #00af00; text-decoration-color: #00af00\">125</span>, <span style=\"color: #00af00; text-decoration-color: #00af00\">64</span>)   │        <span style=\"color: #00af00; text-decoration-color: #00af00\">36,928</span> │\n",
       "├─────────────────────────────────┼────────────────────────┼───────────────┤\n",
       "│ max_pooling2d_1 (<span style=\"color: #0087ff; text-decoration-color: #0087ff\">MaxPooling2D</span>)  │ (<span style=\"color: #00d7ff; text-decoration-color: #00d7ff\">None</span>, <span style=\"color: #00af00; text-decoration-color: #00af00\">62</span>, <span style=\"color: #00af00; text-decoration-color: #00af00\">62</span>, <span style=\"color: #00af00; text-decoration-color: #00af00\">64</span>)     │             <span style=\"color: #00af00; text-decoration-color: #00af00\">0</span> │\n",
       "├─────────────────────────────────┼────────────────────────┼───────────────┤\n",
       "│ conv2d_4 (<span style=\"color: #0087ff; text-decoration-color: #0087ff\">Conv2D</span>)               │ (<span style=\"color: #00d7ff; text-decoration-color: #00d7ff\">None</span>, <span style=\"color: #00af00; text-decoration-color: #00af00\">62</span>, <span style=\"color: #00af00; text-decoration-color: #00af00\">62</span>, <span style=\"color: #00af00; text-decoration-color: #00af00\">128</span>)    │        <span style=\"color: #00af00; text-decoration-color: #00af00\">73,856</span> │\n",
       "├─────────────────────────────────┼────────────────────────┼───────────────┤\n",
       "│ conv2d_5 (<span style=\"color: #0087ff; text-decoration-color: #0087ff\">Conv2D</span>)               │ (<span style=\"color: #00d7ff; text-decoration-color: #00d7ff\">None</span>, <span style=\"color: #00af00; text-decoration-color: #00af00\">60</span>, <span style=\"color: #00af00; text-decoration-color: #00af00\">60</span>, <span style=\"color: #00af00; text-decoration-color: #00af00\">128</span>)    │       <span style=\"color: #00af00; text-decoration-color: #00af00\">147,584</span> │\n",
       "├─────────────────────────────────┼────────────────────────┼───────────────┤\n",
       "│ max_pooling2d_2 (<span style=\"color: #0087ff; text-decoration-color: #0087ff\">MaxPooling2D</span>)  │ (<span style=\"color: #00d7ff; text-decoration-color: #00d7ff\">None</span>, <span style=\"color: #00af00; text-decoration-color: #00af00\">30</span>, <span style=\"color: #00af00; text-decoration-color: #00af00\">30</span>, <span style=\"color: #00af00; text-decoration-color: #00af00\">128</span>)    │             <span style=\"color: #00af00; text-decoration-color: #00af00\">0</span> │\n",
       "├─────────────────────────────────┼────────────────────────┼───────────────┤\n",
       "│ conv2d_6 (<span style=\"color: #0087ff; text-decoration-color: #0087ff\">Conv2D</span>)               │ (<span style=\"color: #00d7ff; text-decoration-color: #00d7ff\">None</span>, <span style=\"color: #00af00; text-decoration-color: #00af00\">30</span>, <span style=\"color: #00af00; text-decoration-color: #00af00\">30</span>, <span style=\"color: #00af00; text-decoration-color: #00af00\">256</span>)    │       <span style=\"color: #00af00; text-decoration-color: #00af00\">295,168</span> │\n",
       "├─────────────────────────────────┼────────────────────────┼───────────────┤\n",
       "│ conv2d_7 (<span style=\"color: #0087ff; text-decoration-color: #0087ff\">Conv2D</span>)               │ (<span style=\"color: #00d7ff; text-decoration-color: #00d7ff\">None</span>, <span style=\"color: #00af00; text-decoration-color: #00af00\">28</span>, <span style=\"color: #00af00; text-decoration-color: #00af00\">28</span>, <span style=\"color: #00af00; text-decoration-color: #00af00\">256</span>)    │       <span style=\"color: #00af00; text-decoration-color: #00af00\">590,080</span> │\n",
       "├─────────────────────────────────┼────────────────────────┼───────────────┤\n",
       "│ max_pooling2d_3 (<span style=\"color: #0087ff; text-decoration-color: #0087ff\">MaxPooling2D</span>)  │ (<span style=\"color: #00d7ff; text-decoration-color: #00d7ff\">None</span>, <span style=\"color: #00af00; text-decoration-color: #00af00\">14</span>, <span style=\"color: #00af00; text-decoration-color: #00af00\">14</span>, <span style=\"color: #00af00; text-decoration-color: #00af00\">256</span>)    │             <span style=\"color: #00af00; text-decoration-color: #00af00\">0</span> │\n",
       "├─────────────────────────────────┼────────────────────────┼───────────────┤\n",
       "│ conv2d_8 (<span style=\"color: #0087ff; text-decoration-color: #0087ff\">Conv2D</span>)               │ (<span style=\"color: #00d7ff; text-decoration-color: #00d7ff\">None</span>, <span style=\"color: #00af00; text-decoration-color: #00af00\">14</span>, <span style=\"color: #00af00; text-decoration-color: #00af00\">14</span>, <span style=\"color: #00af00; text-decoration-color: #00af00\">512</span>)    │     <span style=\"color: #00af00; text-decoration-color: #00af00\">1,180,160</span> │\n",
       "├─────────────────────────────────┼────────────────────────┼───────────────┤\n",
       "│ conv2d_9 (<span style=\"color: #0087ff; text-decoration-color: #0087ff\">Conv2D</span>)               │ (<span style=\"color: #00d7ff; text-decoration-color: #00d7ff\">None</span>, <span style=\"color: #00af00; text-decoration-color: #00af00\">12</span>, <span style=\"color: #00af00; text-decoration-color: #00af00\">12</span>, <span style=\"color: #00af00; text-decoration-color: #00af00\">512</span>)    │     <span style=\"color: #00af00; text-decoration-color: #00af00\">2,359,808</span> │\n",
       "├─────────────────────────────────┼────────────────────────┼───────────────┤\n",
       "│ max_pooling2d_4 (<span style=\"color: #0087ff; text-decoration-color: #0087ff\">MaxPooling2D</span>)  │ (<span style=\"color: #00d7ff; text-decoration-color: #00d7ff\">None</span>, <span style=\"color: #00af00; text-decoration-color: #00af00\">6</span>, <span style=\"color: #00af00; text-decoration-color: #00af00\">6</span>, <span style=\"color: #00af00; text-decoration-color: #00af00\">512</span>)      │             <span style=\"color: #00af00; text-decoration-color: #00af00\">0</span> │\n",
       "├─────────────────────────────────┼────────────────────────┼───────────────┤\n",
       "│ dropout (<span style=\"color: #0087ff; text-decoration-color: #0087ff\">Dropout</span>)               │ (<span style=\"color: #00d7ff; text-decoration-color: #00d7ff\">None</span>, <span style=\"color: #00af00; text-decoration-color: #00af00\">6</span>, <span style=\"color: #00af00; text-decoration-color: #00af00\">6</span>, <span style=\"color: #00af00; text-decoration-color: #00af00\">512</span>)      │             <span style=\"color: #00af00; text-decoration-color: #00af00\">0</span> │\n",
       "├─────────────────────────────────┼────────────────────────┼───────────────┤\n",
       "│ flatten (<span style=\"color: #0087ff; text-decoration-color: #0087ff\">Flatten</span>)               │ (<span style=\"color: #00d7ff; text-decoration-color: #00d7ff\">None</span>, <span style=\"color: #00af00; text-decoration-color: #00af00\">18432</span>)          │             <span style=\"color: #00af00; text-decoration-color: #00af00\">0</span> │\n",
       "├─────────────────────────────────┼────────────────────────┼───────────────┤\n",
       "│ dense (<span style=\"color: #0087ff; text-decoration-color: #0087ff\">Dense</span>)                   │ (<span style=\"color: #00d7ff; text-decoration-color: #00d7ff\">None</span>, <span style=\"color: #00af00; text-decoration-color: #00af00\">2048</span>)           │    <span style=\"color: #00af00; text-decoration-color: #00af00\">37,750,784</span> │\n",
       "├─────────────────────────────────┼────────────────────────┼───────────────┤\n",
       "│ dense_1 (<span style=\"color: #0087ff; text-decoration-color: #0087ff\">Dense</span>)                 │ (<span style=\"color: #00d7ff; text-decoration-color: #00d7ff\">None</span>, <span style=\"color: #00af00; text-decoration-color: #00af00\">1500</span>)           │     <span style=\"color: #00af00; text-decoration-color: #00af00\">3,073,500</span> │\n",
       "├─────────────────────────────────┼────────────────────────┼───────────────┤\n",
       "│ dropout_1 (<span style=\"color: #0087ff; text-decoration-color: #0087ff\">Dropout</span>)             │ (<span style=\"color: #00d7ff; text-decoration-color: #00d7ff\">None</span>, <span style=\"color: #00af00; text-decoration-color: #00af00\">1500</span>)           │             <span style=\"color: #00af00; text-decoration-color: #00af00\">0</span> │\n",
       "├─────────────────────────────────┼────────────────────────┼───────────────┤\n",
       "│ dense_2 (<span style=\"color: #0087ff; text-decoration-color: #0087ff\">Dense</span>)                 │ (<span style=\"color: #00d7ff; text-decoration-color: #00d7ff\">None</span>, <span style=\"color: #00af00; text-decoration-color: #00af00\">4</span>)              │         <span style=\"color: #00af00; text-decoration-color: #00af00\">6,004</span> │\n",
       "└─────────────────────────────────┴────────────────────────┴───────────────┘\n",
       "</pre>\n"
      ],
      "text/plain": [
       "┏━━━━━━━━━━━━━━━━━━━━━━━━━━━━━━━━━┳━━━━━━━━━━━━━━━━━━━━━━━━┳━━━━━━━━━━━━━━━┓\n",
       "┃\u001b[1m \u001b[0m\u001b[1mLayer (type)                   \u001b[0m\u001b[1m \u001b[0m┃\u001b[1m \u001b[0m\u001b[1mOutput Shape          \u001b[0m\u001b[1m \u001b[0m┃\u001b[1m \u001b[0m\u001b[1m      Param #\u001b[0m\u001b[1m \u001b[0m┃\n",
       "┡━━━━━━━━━━━━━━━━━━━━━━━━━━━━━━━━━╇━━━━━━━━━━━━━━━━━━━━━━━━╇━━━━━━━━━━━━━━━┩\n",
       "│ conv2d (\u001b[38;5;33mConv2D\u001b[0m)                 │ (\u001b[38;5;45mNone\u001b[0m, \u001b[38;5;34m256\u001b[0m, \u001b[38;5;34m256\u001b[0m, \u001b[38;5;34m32\u001b[0m)   │           \u001b[38;5;34m896\u001b[0m │\n",
       "├─────────────────────────────────┼────────────────────────┼───────────────┤\n",
       "│ conv2d_1 (\u001b[38;5;33mConv2D\u001b[0m)               │ (\u001b[38;5;45mNone\u001b[0m, \u001b[38;5;34m254\u001b[0m, \u001b[38;5;34m254\u001b[0m, \u001b[38;5;34m32\u001b[0m)   │         \u001b[38;5;34m9,248\u001b[0m │\n",
       "├─────────────────────────────────┼────────────────────────┼───────────────┤\n",
       "│ max_pooling2d (\u001b[38;5;33mMaxPooling2D\u001b[0m)    │ (\u001b[38;5;45mNone\u001b[0m, \u001b[38;5;34m127\u001b[0m, \u001b[38;5;34m127\u001b[0m, \u001b[38;5;34m32\u001b[0m)   │             \u001b[38;5;34m0\u001b[0m │\n",
       "├─────────────────────────────────┼────────────────────────┼───────────────┤\n",
       "│ conv2d_2 (\u001b[38;5;33mConv2D\u001b[0m)               │ (\u001b[38;5;45mNone\u001b[0m, \u001b[38;5;34m127\u001b[0m, \u001b[38;5;34m127\u001b[0m, \u001b[38;5;34m64\u001b[0m)   │        \u001b[38;5;34m18,496\u001b[0m │\n",
       "├─────────────────────────────────┼────────────────────────┼───────────────┤\n",
       "│ conv2d_3 (\u001b[38;5;33mConv2D\u001b[0m)               │ (\u001b[38;5;45mNone\u001b[0m, \u001b[38;5;34m125\u001b[0m, \u001b[38;5;34m125\u001b[0m, \u001b[38;5;34m64\u001b[0m)   │        \u001b[38;5;34m36,928\u001b[0m │\n",
       "├─────────────────────────────────┼────────────────────────┼───────────────┤\n",
       "│ max_pooling2d_1 (\u001b[38;5;33mMaxPooling2D\u001b[0m)  │ (\u001b[38;5;45mNone\u001b[0m, \u001b[38;5;34m62\u001b[0m, \u001b[38;5;34m62\u001b[0m, \u001b[38;5;34m64\u001b[0m)     │             \u001b[38;5;34m0\u001b[0m │\n",
       "├─────────────────────────────────┼────────────────────────┼───────────────┤\n",
       "│ conv2d_4 (\u001b[38;5;33mConv2D\u001b[0m)               │ (\u001b[38;5;45mNone\u001b[0m, \u001b[38;5;34m62\u001b[0m, \u001b[38;5;34m62\u001b[0m, \u001b[38;5;34m128\u001b[0m)    │        \u001b[38;5;34m73,856\u001b[0m │\n",
       "├─────────────────────────────────┼────────────────────────┼───────────────┤\n",
       "│ conv2d_5 (\u001b[38;5;33mConv2D\u001b[0m)               │ (\u001b[38;5;45mNone\u001b[0m, \u001b[38;5;34m60\u001b[0m, \u001b[38;5;34m60\u001b[0m, \u001b[38;5;34m128\u001b[0m)    │       \u001b[38;5;34m147,584\u001b[0m │\n",
       "├─────────────────────────────────┼────────────────────────┼───────────────┤\n",
       "│ max_pooling2d_2 (\u001b[38;5;33mMaxPooling2D\u001b[0m)  │ (\u001b[38;5;45mNone\u001b[0m, \u001b[38;5;34m30\u001b[0m, \u001b[38;5;34m30\u001b[0m, \u001b[38;5;34m128\u001b[0m)    │             \u001b[38;5;34m0\u001b[0m │\n",
       "├─────────────────────────────────┼────────────────────────┼───────────────┤\n",
       "│ conv2d_6 (\u001b[38;5;33mConv2D\u001b[0m)               │ (\u001b[38;5;45mNone\u001b[0m, \u001b[38;5;34m30\u001b[0m, \u001b[38;5;34m30\u001b[0m, \u001b[38;5;34m256\u001b[0m)    │       \u001b[38;5;34m295,168\u001b[0m │\n",
       "├─────────────────────────────────┼────────────────────────┼───────────────┤\n",
       "│ conv2d_7 (\u001b[38;5;33mConv2D\u001b[0m)               │ (\u001b[38;5;45mNone\u001b[0m, \u001b[38;5;34m28\u001b[0m, \u001b[38;5;34m28\u001b[0m, \u001b[38;5;34m256\u001b[0m)    │       \u001b[38;5;34m590,080\u001b[0m │\n",
       "├─────────────────────────────────┼────────────────────────┼───────────────┤\n",
       "│ max_pooling2d_3 (\u001b[38;5;33mMaxPooling2D\u001b[0m)  │ (\u001b[38;5;45mNone\u001b[0m, \u001b[38;5;34m14\u001b[0m, \u001b[38;5;34m14\u001b[0m, \u001b[38;5;34m256\u001b[0m)    │             \u001b[38;5;34m0\u001b[0m │\n",
       "├─────────────────────────────────┼────────────────────────┼───────────────┤\n",
       "│ conv2d_8 (\u001b[38;5;33mConv2D\u001b[0m)               │ (\u001b[38;5;45mNone\u001b[0m, \u001b[38;5;34m14\u001b[0m, \u001b[38;5;34m14\u001b[0m, \u001b[38;5;34m512\u001b[0m)    │     \u001b[38;5;34m1,180,160\u001b[0m │\n",
       "├─────────────────────────────────┼────────────────────────┼───────────────┤\n",
       "│ conv2d_9 (\u001b[38;5;33mConv2D\u001b[0m)               │ (\u001b[38;5;45mNone\u001b[0m, \u001b[38;5;34m12\u001b[0m, \u001b[38;5;34m12\u001b[0m, \u001b[38;5;34m512\u001b[0m)    │     \u001b[38;5;34m2,359,808\u001b[0m │\n",
       "├─────────────────────────────────┼────────────────────────┼───────────────┤\n",
       "│ max_pooling2d_4 (\u001b[38;5;33mMaxPooling2D\u001b[0m)  │ (\u001b[38;5;45mNone\u001b[0m, \u001b[38;5;34m6\u001b[0m, \u001b[38;5;34m6\u001b[0m, \u001b[38;5;34m512\u001b[0m)      │             \u001b[38;5;34m0\u001b[0m │\n",
       "├─────────────────────────────────┼────────────────────────┼───────────────┤\n",
       "│ dropout (\u001b[38;5;33mDropout\u001b[0m)               │ (\u001b[38;5;45mNone\u001b[0m, \u001b[38;5;34m6\u001b[0m, \u001b[38;5;34m6\u001b[0m, \u001b[38;5;34m512\u001b[0m)      │             \u001b[38;5;34m0\u001b[0m │\n",
       "├─────────────────────────────────┼────────────────────────┼───────────────┤\n",
       "│ flatten (\u001b[38;5;33mFlatten\u001b[0m)               │ (\u001b[38;5;45mNone\u001b[0m, \u001b[38;5;34m18432\u001b[0m)          │             \u001b[38;5;34m0\u001b[0m │\n",
       "├─────────────────────────────────┼────────────────────────┼───────────────┤\n",
       "│ dense (\u001b[38;5;33mDense\u001b[0m)                   │ (\u001b[38;5;45mNone\u001b[0m, \u001b[38;5;34m2048\u001b[0m)           │    \u001b[38;5;34m37,750,784\u001b[0m │\n",
       "├─────────────────────────────────┼────────────────────────┼───────────────┤\n",
       "│ dense_1 (\u001b[38;5;33mDense\u001b[0m)                 │ (\u001b[38;5;45mNone\u001b[0m, \u001b[38;5;34m1500\u001b[0m)           │     \u001b[38;5;34m3,073,500\u001b[0m │\n",
       "├─────────────────────────────────┼────────────────────────┼───────────────┤\n",
       "│ dropout_1 (\u001b[38;5;33mDropout\u001b[0m)             │ (\u001b[38;5;45mNone\u001b[0m, \u001b[38;5;34m1500\u001b[0m)           │             \u001b[38;5;34m0\u001b[0m │\n",
       "├─────────────────────────────────┼────────────────────────┼───────────────┤\n",
       "│ dense_2 (\u001b[38;5;33mDense\u001b[0m)                 │ (\u001b[38;5;45mNone\u001b[0m, \u001b[38;5;34m4\u001b[0m)              │         \u001b[38;5;34m6,004\u001b[0m │\n",
       "└─────────────────────────────────┴────────────────────────┴───────────────┘\n"
      ]
     },
     "metadata": {},
     "output_type": "display_data"
    },
    {
     "data": {
      "text/html": [
       "<pre style=\"white-space:pre;overflow-x:auto;line-height:normal;font-family:Menlo,'DejaVu Sans Mono',consolas,'Courier New',monospace\"><span style=\"font-weight: bold\"> Total params: </span><span style=\"color: #00af00; text-decoration-color: #00af00\">45,542,512</span> (173.73 MB)\n",
       "</pre>\n"
      ],
      "text/plain": [
       "\u001b[1m Total params: \u001b[0m\u001b[38;5;34m45,542,512\u001b[0m (173.73 MB)\n"
      ]
     },
     "metadata": {},
     "output_type": "display_data"
    },
    {
     "data": {
      "text/html": [
       "<pre style=\"white-space:pre;overflow-x:auto;line-height:normal;font-family:Menlo,'DejaVu Sans Mono',consolas,'Courier New',monospace\"><span style=\"font-weight: bold\"> Trainable params: </span><span style=\"color: #00af00; text-decoration-color: #00af00\">45,542,512</span> (173.73 MB)\n",
       "</pre>\n"
      ],
      "text/plain": [
       "\u001b[1m Trainable params: \u001b[0m\u001b[38;5;34m45,542,512\u001b[0m (173.73 MB)\n"
      ]
     },
     "metadata": {},
     "output_type": "display_data"
    },
    {
     "data": {
      "text/html": [
       "<pre style=\"white-space:pre;overflow-x:auto;line-height:normal;font-family:Menlo,'DejaVu Sans Mono',consolas,'Courier New',monospace\"><span style=\"font-weight: bold\"> Non-trainable params: </span><span style=\"color: #00af00; text-decoration-color: #00af00\">0</span> (0.00 B)\n",
       "</pre>\n"
      ],
      "text/plain": [
       "\u001b[1m Non-trainable params: \u001b[0m\u001b[38;5;34m0\u001b[0m (0.00 B)\n"
      ]
     },
     "metadata": {},
     "output_type": "display_data"
    }
   ],
   "source": [
    "model.summary()"
   ]
  },
  {
   "cell_type": "markdown",
   "id": "53bd0e2b-ef4a-42a5-82fc-1a13b7e11ed8",
   "metadata": {},
   "source": [
    "# Model Training"
   ]
  },
  {
   "cell_type": "code",
   "execution_count": 43,
   "id": "a96794a4-9716-4ab8-baa9-6456bc3feec4",
   "metadata": {
    "scrolled": true
   },
   "outputs": [
    {
     "name": "stdout",
     "output_type": "stream",
     "text": [
      "Epoch 1/10\n",
      "\u001b[1m54/54\u001b[0m \u001b[32m━━━━━━━━━━━━━━━━━━━━\u001b[0m\u001b[37m\u001b[0m \u001b[1m226s\u001b[0m 4s/step - accuracy: 0.9444 - loss: 0.1583 - val_accuracy: 0.8776 - val_loss: 0.3563\n",
      "Epoch 2/10\n",
      "\u001b[1m54/54\u001b[0m \u001b[32m━━━━━━━━━━━━━━━━━━━━\u001b[0m\u001b[37m\u001b[0m \u001b[1m219s\u001b[0m 4s/step - accuracy: 0.9515 - loss: 0.1324 - val_accuracy: 0.9017 - val_loss: 0.3622\n",
      "Epoch 3/10\n",
      "\u001b[1m54/54\u001b[0m \u001b[32m━━━━━━━━━━━━━━━━━━━━\u001b[0m\u001b[37m\u001b[0m \u001b[1m215s\u001b[0m 4s/step - accuracy: 0.9498 - loss: 0.1391 - val_accuracy: 0.9221 - val_loss: 0.2599\n",
      "Epoch 4/10\n",
      "\u001b[1m54/54\u001b[0m \u001b[32m━━━━━━━━━━━━━━━━━━━━\u001b[0m\u001b[37m\u001b[0m \u001b[1m217s\u001b[0m 4s/step - accuracy: 0.9872 - loss: 0.0521 - val_accuracy: 0.9351 - val_loss: 0.3596\n",
      "Epoch 5/10\n",
      "\u001b[1m54/54\u001b[0m \u001b[32m━━━━━━━━━━━━━━━━━━━━\u001b[0m\u001b[37m\u001b[0m \u001b[1m214s\u001b[0m 4s/step - accuracy: 0.9892 - loss: 0.0319 - val_accuracy: 0.8924 - val_loss: 0.5443\n",
      "Epoch 6/10\n",
      "\u001b[1m54/54\u001b[0m \u001b[32m━━━━━━━━━━━━━━━━━━━━\u001b[0m\u001b[37m\u001b[0m \u001b[1m214s\u001b[0m 4s/step - accuracy: 0.9686 - loss: 0.1127 - val_accuracy: 0.9239 - val_loss: 0.3439\n",
      "Epoch 7/10\n",
      "\u001b[1m54/54\u001b[0m \u001b[32m━━━━━━━━━━━━━━━━━━━━\u001b[0m\u001b[37m\u001b[0m \u001b[1m7475s\u001b[0m 141s/step - accuracy: 0.9832 - loss: 0.0569 - val_accuracy: 0.9184 - val_loss: 0.2828\n",
      "Epoch 8/10\n",
      "\u001b[1m54/54\u001b[0m \u001b[32m━━━━━━━━━━━━━━━━━━━━\u001b[0m\u001b[37m\u001b[0m \u001b[1m188s\u001b[0m 3s/step - accuracy: 0.9789 - loss: 0.0574 - val_accuracy: 0.9276 - val_loss: 0.3370\n",
      "Epoch 9/10\n",
      "\u001b[1m54/54\u001b[0m \u001b[32m━━━━━━━━━━━━━━━━━━━━\u001b[0m\u001b[37m\u001b[0m \u001b[1m198s\u001b[0m 4s/step - accuracy: 0.9773 - loss: 0.0612 - val_accuracy: 0.9369 - val_loss: 0.1874\n",
      "Epoch 10/10\n",
      "\u001b[1m54/54\u001b[0m \u001b[32m━━━━━━━━━━━━━━━━━━━━\u001b[0m\u001b[37m\u001b[0m \u001b[1m199s\u001b[0m 4s/step - accuracy: 0.9759 - loss: 0.0754 - val_accuracy: 0.9332 - val_loss: 0.2789\n"
     ]
    }
   ],
   "source": [
    "training_history = model.fit(x=training_set,validation_data=validation_set,epochs=10)"
   ]
  },
  {
   "cell_type": "markdown",
   "id": "313e8c8c-c134-4a96-a5f9-9f35a962310b",
   "metadata": {},
   "source": [
    "\n",
    "## Model Evaluation"
   ]
  },
  {
   "cell_type": "code",
   "execution_count": 24,
   "id": "ea917dbf-a619-4e03-98f1-81bb38dcd834",
   "metadata": {},
   "outputs": [
    {
     "name": "stdout",
     "output_type": "stream",
     "text": [
      "\u001b[1m54/54\u001b[0m \u001b[32m━━━━━━━━━━━━━━━━━━━━\u001b[0m\u001b[37m\u001b[0m \u001b[1m62s\u001b[0m 1s/step - accuracy: 0.9606 - loss: 0.1339\n"
     ]
    }
   ],
   "source": [
    "# Model Evaluation on Training Set\n",
    "train_loss,train_acc = model.evaluate(training_set)"
   ]
  },
  {
   "cell_type": "code",
   "execution_count": 25,
   "id": "99d27e62-67ca-4e5b-b337-a8bb90613b2e",
   "metadata": {},
   "outputs": [
    {
     "name": "stdout",
     "output_type": "stream",
     "text": [
      "0.11750359833240509 0.9701754450798035\n"
     ]
    }
   ],
   "source": [
    "print(train_loss,train_acc)"
   ]
  },
  {
   "cell_type": "code",
   "execution_count": 26,
   "id": "027de460-75cf-4f28-bd9d-8a0a579b1466",
   "metadata": {},
   "outputs": [
    {
     "name": "stdout",
     "output_type": "stream",
     "text": [
      "\u001b[1m17/17\u001b[0m \u001b[32m━━━━━━━━━━━━━━━━━━━━\u001b[0m\u001b[37m\u001b[0m \u001b[1m20s\u001b[0m 1s/step - accuracy: 0.8891 - loss: 0.3716\n"
     ]
    }
   ],
   "source": [
    "# Model Evaluation on Validation Set\n",
    "val_loss,val_acc = model.evaluate(validation_set)"
   ]
  },
  {
   "cell_type": "code",
   "execution_count": 27,
   "id": "1b246db8-30e3-4399-82ec-6105488f11f4",
   "metadata": {},
   "outputs": [
    {
     "name": "stdout",
     "output_type": "stream",
     "text": [
      "0.4118056893348694 0.8868274688720703\n"
     ]
    }
   ],
   "source": [
    "print(val_loss,val_acc)"
   ]
  },
  {
   "cell_type": "markdown",
   "id": "54f397da-e645-4187-9363-48c5ea7c88ce",
   "metadata": {},
   "source": [
    "\n",
    "## Saving Model"
   ]
  },
  {
   "cell_type": "code",
   "execution_count": 44,
   "id": "10b63b8b-2d32-48b0-8b5a-54eaddc6e234",
   "metadata": {},
   "outputs": [],
   "source": [
    "model.save(\"trained_model3.keras\")"
   ]
  },
  {
   "cell_type": "code",
   "execution_count": 46,
   "id": "11d5df0b-4d03-4b4b-8830-1894c32e190e",
   "metadata": {},
   "outputs": [
    {
     "data": {
      "text/plain": [
       "{'accuracy': [0.9426900744438171,\n",
       "  0.9502924084663391,\n",
       "  0.9596491456031799,\n",
       "  0.9830409288406372,\n",
       "  0.9877192974090576,\n",
       "  0.9766082167625427,\n",
       "  0.9754385948181152,\n",
       "  0.9824561476707458,\n",
       "  0.9684210419654846,\n",
       "  0.9812865257263184],\n",
       " 'loss': [0.16785883903503418,\n",
       "  0.1389504075050354,\n",
       "  0.11222943663597107,\n",
       "  0.05537990480661392,\n",
       "  0.03593749925494194,\n",
       "  0.07275247573852539,\n",
       "  0.07615617662668228,\n",
       "  0.047765061259269714,\n",
       "  0.08317797631025314,\n",
       "  0.05576955899596214],\n",
       " 'val_accuracy': [0.8775510191917419,\n",
       "  0.9016697406768799,\n",
       "  0.9220778942108154,\n",
       "  0.9350649118423462,\n",
       "  0.8923933506011963,\n",
       "  0.923933207988739,\n",
       "  0.918367326259613,\n",
       "  0.9276437759399414,\n",
       "  0.9369202256202698,\n",
       "  0.9332096576690674],\n",
       " 'val_loss': [0.3563070297241211,\n",
       "  0.36224159598350525,\n",
       "  0.2599303424358368,\n",
       "  0.3595602512359619,\n",
       "  0.5443340539932251,\n",
       "  0.3438650071620941,\n",
       "  0.2827639877796173,\n",
       "  0.33697909116744995,\n",
       "  0.1874433308839798,\n",
       "  0.27889344096183777]}"
      ]
     },
     "execution_count": 46,
     "metadata": {},
     "output_type": "execute_result"
    }
   ],
   "source": [
    "training_history.history"
   ]
  },
  {
   "cell_type": "code",
   "execution_count": 47,
   "id": "3327e138-104c-48c6-bc16-12fe9f96812b",
   "metadata": {},
   "outputs": [],
   "source": [
    "## Recording History in json\n",
    "import json\n",
    "with open (\"training_hist.json\",\"w\") as f:\n",
    "    json.dump(training_history.history,f)"
   ]
  },
  {
   "cell_type": "markdown",
   "id": "915cec15-4fac-4b51-ab47-21ddc250ede3",
   "metadata": {},
   "source": [
    "## Accuracy Visualization"
   ]
  },
  {
   "cell_type": "code",
   "execution_count": 52,
   "id": "b429b3ae-73e2-4f09-9799-3e336fc947ea",
   "metadata": {
    "scrolled": true
   },
   "outputs": [
    {
     "data": {
      "image/png": "[encoded data removed]",
      "text/plain": [
       "<Figure size 640x480 with 1 Axes>"
      ]
     },
     "metadata": {},
     "output_type": "display_data"
    }
   ],
   "source": [
    "epochs = [i for i in range (1,11)]\n",
    "plt.plot(epochs,training_history.history['accuracy'],color='red',label='Training Accuracy')\n",
    "# plt.plot(epochs,training_history.history['loss'],color='blue',label='Loss')\n",
    "plt.xlabel(\"No.of Epochs\")\n",
    "plt.ylabel(\"Accuracy Result\")\n",
    "plt.title(\"Visualization of Accuracy Result\")\n",
    "plt.legend()\n",
    "plt.show()"
   ]
  },
  {
   "cell_type": "markdown",
   "id": "ded689d6-df5e-414e-b14b-1e4c97638905",
   "metadata": {},
   "source": [
    "## Some Other metrics for model evaluation"
   ]
  },
  {
   "cell_type": "code",
   "execution_count": 53,
   "id": "484e0995-b005-4800-a264-5632b821d74c",
   "metadata": {},
   "outputs": [
    {
     "data": {
      "text/plain": [
       "['bacterial_blight', 'curl_virus', 'fussarium_wilt', 'healthy']"
      ]
     },
     "execution_count": 53,
     "metadata": {},
     "output_type": "execute_result"
    }
   ],
   "source": [
    "class_name = validation_set.class_names\n",
    "class_name"
   ]
  },
  {
   "cell_type": "code",
   "execution_count": 54,
   "id": "645710de-19df-434a-8338-9f3cf0ceb8e4",
   "metadata": {},
   "outputs": [
    {
     "name": "stdout",
     "output_type": "stream",
     "text": [
      "Found 241 files belonging to 4 classes.\n"
     ]
    }
   ],
   "source": [
    "test_set = tf.keras.utils.image_dataset_from_directory(\n",
    "    'test',\n",
    "    labels=\"inferred\",\n",
    "    label_mode=\"categorical\",\n",
    "    class_names=None,\n",
    "    color_mode=\"rgb\",\n",
    "    batch_size=32,\n",
    "    image_size=(256, 256),\n",
    "    shuffle=True,\n",
    "    seed=None,\n",
    "    validation_split=None,\n",
    "    subset=None,\n",
    "    interpolation=\"bilinear\",\n",
    "    follow_links=False,\n",
    "    crop_to_aspect_ratio=False,\n",
    "    pad_to_aspect_ratio=False,\n",
    "    data_format=None,\n",
    "    verbose=True,\n",
    ")"
   ]
  },
  {
   "cell_type": "code",
   "execution_count": 55,
   "id": "9f752713-fb1b-40e3-939b-6db05229995c",
   "metadata": {},
   "outputs": [
    {
     "name": "stdout",
     "output_type": "stream",
     "text": [
      "\u001b[1m8/8\u001b[0m \u001b[32m━━━━━━━━━━━━━━━━━━━━\u001b[0m\u001b[37m\u001b[0m \u001b[1m8s\u001b[0m 976ms/step\n"
     ]
    },
    {
     "data": {
      "text/plain": [
       "(array([[1.26094716e-02, 9.86645401e-01, 6.94902090e-04, 5.02517178e-05],\n",
       "        [2.72068996e-02, 3.64281208e-04, 2.92572113e-05, 9.72399533e-01],\n",
       "        [3.34592387e-02, 9.65898275e-01, 4.38239338e-04, 2.04281823e-04],\n",
       "        [2.80731238e-05, 2.21279794e-08, 2.58941134e-03, 9.97382462e-01],\n",
       "        [9.98831451e-01, 1.35203220e-06, 1.12153438e-03, 4.57154019e-05],\n",
       "        [1.19063498e-06, 9.99978781e-01, 1.99369788e-05, 6.27095957e-08],\n",
       "        [7.20308803e-04, 9.99027371e-01, 2.51702848e-04, 5.69004328e-07],\n",
       "        [9.41266953e-10, 1.64379170e-11, 9.79337306e-11, 1.00000000e+00],\n",
       "        [6.71993092e-08, 9.99799073e-01, 2.00893803e-04, 1.01203707e-13],\n",
       "        [5.31336468e-07, 9.99985695e-01, 2.82677593e-06, 1.09777875e-05],\n",
       "        [9.99861002e-01, 4.79973664e-07, 1.34884758e-04, 3.60949707e-06],\n",
       "        [5.80280907e-02, 8.38543475e-01, 1.53674092e-02, 8.80609602e-02],\n",
       "        [7.95028448e-01, 6.46776408e-02, 7.08290900e-04, 1.39585659e-01],\n",
       "        [1.32509915e-03, 9.93269622e-01, 5.40516153e-03, 9.97821346e-08],\n",
       "        [9.90289450e-01, 3.23644350e-03, 2.87035108e-03, 3.60377808e-03],\n",
       "        [1.35447840e-06, 9.99996543e-01, 2.09343216e-06, 7.21935567e-10],\n",
       "        [9.50974055e-09, 9.99994159e-01, 5.55692441e-06, 1.89661208e-07],\n",
       "        [6.84735000e-01, 9.56021443e-11, 3.15264910e-01, 2.40768211e-10],\n",
       "        [9.96200502e-01, 8.75051308e-04, 2.92363903e-03, 7.89906494e-07],\n",
       "        [1.09051878e-04, 5.46889082e-02, 9.45201218e-01, 7.87054034e-07],\n",
       "        [2.16060201e-07, 9.99628067e-01, 3.71641770e-04, 2.90884028e-08],\n",
       "        [2.44652806e-03, 9.97551978e-01, 1.38232588e-06, 9.98599248e-08],\n",
       "        [2.18019951e-02, 9.26450610e-01, 8.86629988e-03, 4.28810902e-02],\n",
       "        [9.94527161e-01, 9.93834459e-04, 4.45450936e-03, 2.44946150e-05],\n",
       "        [1.35750781e-07, 9.99705970e-01, 2.93840538e-04, 1.88140437e-08],\n",
       "        [5.80817282e-01, 2.09111860e-03, 1.91229116e-03, 4.15179282e-01],\n",
       "        [1.38552804e-02, 1.39115309e-05, 1.01761114e-04, 9.86029088e-01],\n",
       "        [2.50768028e-02, 4.76067653e-03, 9.12398100e-01, 5.77644296e-02],\n",
       "        [1.17228431e-08, 9.99999881e-01, 8.61718732e-08, 1.55875660e-10],\n",
       "        [9.17626545e-02, 7.65655696e-01, 1.19633809e-01, 2.29478292e-02],\n",
       "        [1.20910714e-04, 9.99192536e-01, 6.73337025e-04, 1.32729920e-05],\n",
       "        [9.96352077e-01, 4.30818254e-05, 2.45008850e-03, 1.15479785e-03],\n",
       "        [9.39632535e-01, 6.17923448e-03, 2.52111058e-04, 5.39360456e-02],\n",
       "        [3.38036829e-04, 9.99660134e-01, 1.24617145e-06, 5.92031029e-07],\n",
       "        [8.53607980e-06, 9.99987364e-01, 4.14954229e-06, 9.94633265e-11],\n",
       "        [8.61212686e-02, 3.42981994e-01, 1.94431719e-04, 5.70702255e-01],\n",
       "        [1.38615133e-05, 9.99980330e-01, 5.83064457e-06, 1.02811570e-09],\n",
       "        [1.54154763e-01, 8.27366531e-01, 1.74987260e-02, 9.79948090e-04],\n",
       "        [7.82924508e-06, 9.99988675e-01, 7.56523775e-07, 2.72574493e-06],\n",
       "        [7.88449869e-02, 9.07796502e-01, 1.33438073e-02, 1.47120245e-05],\n",
       "        [8.79151449e-02, 2.68189795e-03, 2.29302958e-01, 6.80099964e-01],\n",
       "        [4.35733192e-08, 7.08904054e-07, 1.32251046e-07, 9.99999166e-01],\n",
       "        [6.89565903e-03, 3.03077017e-04, 1.69976425e-04, 9.92631316e-01],\n",
       "        [3.55683937e-06, 9.99996424e-01, 9.79219195e-09, 2.63395677e-11],\n",
       "        [3.06936592e-04, 9.97959018e-01, 1.71719049e-03, 1.68818169e-05],\n",
       "        [2.07617710e-08, 9.99998689e-01, 5.02049772e-07, 7.93764002e-07],\n",
       "        [1.82503024e-09, 9.99992847e-01, 4.99774124e-08, 7.19498485e-06],\n",
       "        [7.53264606e-01, 4.96621826e-04, 2.46061087e-01, 1.77663998e-04],\n",
       "        [2.68585190e-05, 9.99963403e-01, 8.33117974e-06, 1.42397232e-06],\n",
       "        [2.87237344e-05, 9.99971151e-01, 9.24720140e-08, 4.01347311e-09],\n",
       "        [1.38095459e-07, 2.47718575e-08, 1.09734684e-08, 9.99999881e-01],\n",
       "        [1.67223230e-01, 6.83463812e-01, 2.20825081e-03, 1.47104710e-01],\n",
       "        [1.71791145e-03, 9.97178555e-01, 6.32975716e-04, 4.70575993e-04],\n",
       "        [4.61659191e-08, 9.99999523e-01, 4.50581581e-07, 5.71153684e-08],\n",
       "        [2.15011269e-01, 4.29503545e-02, 8.31360405e-04, 7.41206944e-01],\n",
       "        [9.66551960e-01, 4.84802236e-04, 1.52428169e-04, 3.28108259e-02],\n",
       "        [8.95607322e-09, 9.99999404e-01, 4.92464096e-07, 1.76657053e-07],\n",
       "        [7.42116988e-01, 3.49386246e-04, 2.57375896e-01, 1.57689457e-04],\n",
       "        [1.51369368e-11, 1.00000000e+00, 1.74295796e-08, 3.24103869e-11],\n",
       "        [1.09473920e-04, 9.96559083e-06, 1.28222355e-05, 9.99867678e-01],\n",
       "        [2.87237344e-05, 9.99971151e-01, 9.24720140e-08, 4.01347311e-09],\n",
       "        [5.00006318e-01, 2.20038509e-03, 4.96954948e-01, 8.38393637e-04],\n",
       "        [5.87397892e-07, 9.99999285e-01, 1.25244924e-07, 1.37655470e-10],\n",
       "        [1.58939089e-04, 1.18934186e-02, 2.17363968e-01, 7.70583689e-01],\n",
       "        [7.53778877e-05, 9.99854684e-01, 6.99035518e-05, 4.47727793e-08],\n",
       "        [8.97369755e-04, 5.98742247e-07, 8.35076025e-06, 9.99093652e-01],\n",
       "        [1.35746788e-07, 9.99865294e-01, 1.34493443e-04, 4.32560210e-10],\n",
       "        [9.68539644e-06, 9.42970097e-01, 5.70202395e-02, 2.52528043e-08],\n",
       "        [1.67057149e-11, 9.99999285e-01, 6.99128691e-07, 1.67544361e-08],\n",
       "        [9.48925517e-05, 2.31284935e-06, 1.57745183e-06, 9.99901295e-01],\n",
       "        [6.32391238e-05, 3.81676301e-07, 2.17397450e-04, 9.99718964e-01],\n",
       "        [1.16174492e-08, 5.79140569e-10, 3.78928305e-10, 1.00000000e+00],\n",
       "        [1.86927728e-02, 9.16292965e-01, 6.37466460e-02, 1.26766018e-03],\n",
       "        [2.15798330e-08, 9.99999762e-01, 1.01662181e-07, 1.06832651e-07],\n",
       "        [9.27612722e-01, 4.68352073e-06, 7.22790658e-02, 1.03439743e-04],\n",
       "        [5.80280907e-02, 8.38543475e-01, 1.53674092e-02, 8.80609602e-02],\n",
       "        [1.88002094e-08, 9.96489346e-01, 1.58981862e-07, 3.51051008e-03],\n",
       "        [9.33869421e-01, 2.62417663e-02, 3.80466320e-02, 1.84215547e-03],\n",
       "        [1.89427908e-07, 8.55418421e-06, 5.57395992e-07, 9.99990702e-01],\n",
       "        [4.34236489e-02, 3.40745062e-01, 3.61595184e-01, 2.54236132e-01],\n",
       "        [1.20609741e-06, 9.99947190e-01, 5.16012406e-05, 1.46337484e-08],\n",
       "        [3.34860444e-01, 2.10833415e-01, 4.22693938e-01, 3.16122137e-02],\n",
       "        [8.05986267e-12, 1.00000000e+00, 5.24154053e-09, 2.13248408e-12],\n",
       "        [7.97467692e-07, 9.99998927e-01, 2.26144707e-07, 6.62824351e-10],\n",
       "        [1.75894893e-04, 9.98875439e-01, 9.33416828e-04, 1.52455395e-05],\n",
       "        [1.39832848e-08, 9.99984980e-01, 9.14479006e-06, 5.82382518e-06],\n",
       "        [8.54162681e-06, 9.92918313e-01, 7.07283523e-03, 1.80911982e-07],\n",
       "        [3.00647516e-05, 9.99606073e-01, 3.63137253e-04, 6.73608781e-07],\n",
       "        [9.40114915e-01, 7.55345868e-03, 2.88437586e-03, 4.94472533e-02],\n",
       "        [1.29966384e-08, 3.92639921e-09, 1.71778929e-08, 1.00000000e+00],\n",
       "        [2.02428666e-03, 6.98081776e-02, 9.20438528e-01, 7.72902695e-03],\n",
       "        [1.67941150e-09, 9.99998212e-01, 1.73062210e-06, 5.46835979e-11],\n",
       "        [6.58226584e-10, 1.00000000e+00, 1.51529633e-08, 1.83744986e-09],\n",
       "        [5.18039975e-08, 9.99050915e-01, 9.48788249e-04, 1.95869589e-07],\n",
       "        [6.34995699e-02, 4.69281897e-03, 9.29833293e-01, 1.97433587e-03],\n",
       "        [9.60506439e-01, 1.69513077e-02, 2.22189445e-02, 3.23322020e-04],\n",
       "        [1.74433887e-11, 1.00000000e+00, 3.99504474e-09, 2.85967725e-15],\n",
       "        [7.39717109e-07, 9.99998689e-01, 3.64929036e-07, 2.12371518e-07],\n",
       "        [8.46325636e-01, 1.19134955e-01, 3.24576125e-02, 2.08184356e-03],\n",
       "        [8.60934332e-02, 4.35823739e-01, 4.77950692e-01, 1.32095971e-04],\n",
       "        [6.01097054e-06, 9.95112598e-01, 4.57137916e-03, 3.09986528e-04],\n",
       "        [3.97918426e-04, 9.97583151e-01, 1.34154161e-05, 2.00543017e-03],\n",
       "        [2.49956531e-11, 1.00000000e+00, 6.41502984e-09, 6.25629271e-11],\n",
       "        [2.42855435e-07, 9.99997258e-01, 2.14052488e-06, 3.24347354e-07],\n",
       "        [5.35630534e-06, 9.99991894e-01, 6.03539661e-07, 2.10003918e-06],\n",
       "        [3.10460501e-03, 2.57054344e-03, 9.91414130e-01, 2.91072717e-03],\n",
       "        [2.11678957e-06, 9.99995232e-01, 3.66473500e-07, 2.25589110e-06],\n",
       "        [1.83064603e-08, 9.99999642e-01, 2.32564830e-07, 1.04138749e-07],\n",
       "        [8.82401196e-07, 9.99894619e-01, 4.78025540e-05, 5.67804200e-05],\n",
       "        [9.94588852e-01, 1.34379475e-03, 9.80878016e-04, 3.08643165e-03],\n",
       "        [1.12969497e-06, 9.99098778e-01, 9.00115410e-04, 4.11636369e-09],\n",
       "        [4.07059312e-01, 2.71465212e-01, 8.61515403e-02, 2.35324025e-01],\n",
       "        [8.22273016e-01, 2.40386487e-03, 5.86602429e-04, 1.74736574e-01],\n",
       "        [8.77119720e-01, 5.83297713e-03, 1.09166622e-01, 7.88065698e-03],\n",
       "        [1.44034311e-05, 9.99959469e-01, 2.59731441e-05, 1.57945493e-07],\n",
       "        [2.00261101e-02, 9.62202400e-02, 2.47652555e-04, 8.83505940e-01],\n",
       "        [4.95707070e-07, 9.99858737e-01, 1.40704040e-04, 3.44683642e-08],\n",
       "        [2.06865093e-06, 6.00135684e-01, 8.50343844e-04, 3.99011940e-01],\n",
       "        [3.07359099e-01, 1.90988332e-01, 4.50199172e-02, 4.56632733e-01],\n",
       "        [4.46406702e-05, 5.78242242e-01, 4.21712577e-01, 5.26309236e-07],\n",
       "        [4.84121469e-04, 9.99440968e-01, 7.47351805e-05, 1.53195415e-07],\n",
       "        [1.94168061e-01, 4.62915283e-04, 1.34572882e-04, 8.05234551e-01],\n",
       "        [1.63138315e-01, 4.18437086e-03, 1.07009808e-04, 8.32570314e-01],\n",
       "        [6.20699268e-07, 4.24162003e-08, 7.91780366e-08, 9.99999285e-01],\n",
       "        [8.63096317e-10, 1.00000000e+00, 5.37369615e-09, 2.12178677e-11],\n",
       "        [2.30563767e-02, 9.19743598e-01, 9.72308591e-03, 4.74769622e-02],\n",
       "        [1.19262484e-06, 9.99956846e-01, 4.19963144e-05, 7.15614767e-09],\n",
       "        [9.37963719e-04, 9.99061644e-01, 4.06580028e-07, 5.25801269e-08],\n",
       "        [3.28513756e-02, 9.50398743e-01, 5.14068757e-04, 1.62358209e-02],\n",
       "        [9.39108702e-08, 9.93117213e-01, 6.88261865e-03, 7.92145169e-11],\n",
       "        [6.75498812e-09, 8.90705536e-08, 3.29725869e-09, 9.99999881e-01],\n",
       "        [8.94998491e-04, 5.16152799e-01, 4.81913418e-01, 1.03882747e-03],\n",
       "        [1.67057149e-11, 9.99999285e-01, 6.99128691e-07, 1.67544361e-08],\n",
       "        [4.13110222e-08, 9.99999642e-01, 2.66629769e-07, 2.14074856e-08],\n",
       "        [9.74889457e-01, 4.90740204e-05, 2.25305296e-02, 2.53092172e-03],\n",
       "        [8.38027358e-01, 8.39418694e-02, 5.25584929e-02, 2.54722498e-02],\n",
       "        [1.84315068e-05, 9.99969721e-01, 1.18802509e-05, 1.73143757e-08],\n",
       "        [9.66421008e-01, 3.01137846e-03, 2.35869177e-03, 2.82089002e-02],\n",
       "        [5.94024868e-06, 9.99993801e-01, 2.09292239e-07, 3.76420246e-08],\n",
       "        [8.76411692e-15, 1.00000000e+00, 4.18968471e-10, 1.93148738e-16],\n",
       "        [1.14042662e-12, 9.99992132e-01, 7.90824561e-06, 6.18094368e-17],\n",
       "        [1.07079789e-01, 2.93783080e-02, 6.96494520e-01, 1.67047426e-01],\n",
       "        [2.95926439e-09, 9.99999642e-01, 3.85889450e-07, 5.50145984e-10],\n",
       "        [7.38922298e-01, 2.32533392e-04, 2.60731310e-01, 1.13857554e-04],\n",
       "        [8.95607322e-09, 9.99999404e-01, 4.92464096e-07, 1.76657053e-07],\n",
       "        [3.55568019e-08, 9.99999642e-01, 3.00772456e-07, 1.15264104e-10],\n",
       "        [9.97733951e-01, 4.13888862e-04, 1.13291404e-04, 1.73873501e-03],\n",
       "        [6.14654891e-06, 9.92048323e-01, 7.94536341e-03, 1.62497884e-07],\n",
       "        [1.10760823e-07, 9.99999285e-01, 5.85640407e-07, 3.99880573e-10],\n",
       "        [6.53500974e-01, 6.58037839e-03, 3.34249765e-01, 5.66882500e-03],\n",
       "        [1.31825493e-08, 9.99995351e-01, 4.66532811e-06, 2.59568634e-11],\n",
       "        [2.95926439e-09, 9.99999642e-01, 3.85889450e-07, 5.50145984e-10],\n",
       "        [8.29376082e-11, 9.97506440e-01, 2.49363994e-03, 5.43490600e-12],\n",
       "        [6.68805023e-06, 9.99814689e-01, 1.78622344e-04, 3.88680244e-09],\n",
       "        [1.83328073e-02, 7.87644386e-01, 1.93977281e-01, 4.55061709e-05],\n",
       "        [1.46330241e-02, 9.83261168e-01, 2.07322906e-03, 3.25310539e-05],\n",
       "        [2.44245646e-09, 9.99999523e-01, 4.28616602e-07, 1.27741238e-11],\n",
       "        [1.39087379e-01, 6.61236641e-04, 8.60153973e-01, 9.72940688e-05],\n",
       "        [7.82149732e-01, 1.31235681e-02, 3.10398382e-03, 2.01622754e-01],\n",
       "        [2.57096965e-11, 9.99998569e-01, 1.41489170e-06, 8.28776336e-09],\n",
       "        [1.61002621e-01, 1.16575122e-01, 3.48206540e-03, 7.18940139e-01],\n",
       "        [3.55683937e-06, 9.99996424e-01, 9.79219195e-09, 2.63395677e-11],\n",
       "        [9.82807577e-02, 3.11861222e-04, 3.32145719e-03, 8.98085892e-01],\n",
       "        [2.06452260e-05, 4.84219845e-06, 8.71085781e-09, 9.99974489e-01],\n",
       "        [2.14314166e-09, 9.99999762e-01, 1.98658597e-07, 1.49085633e-08],\n",
       "        [7.97138214e-01, 1.28190941e-03, 9.19819921e-02, 1.09597921e-01],\n",
       "        [2.10604778e-09, 1.00000000e+00, 3.55066661e-08, 4.11326268e-12],\n",
       "        [8.17366413e-07, 9.93127942e-01, 5.53639419e-03, 1.33489922e-03],\n",
       "        [5.61168974e-07, 9.99914169e-01, 8.53073216e-05, 2.19714931e-08],\n",
       "        [9.15757194e-03, 9.90730822e-01, 9.61058104e-05, 1.54548761e-05],\n",
       "        [3.03974659e-08, 9.99999881e-01, 5.54686892e-08, 2.21782297e-11],\n",
       "        [8.44783857e-02, 7.81638741e-01, 1.12717383e-01, 2.11653970e-02],\n",
       "        [2.81416902e-07, 9.71431557e-09, 7.82852805e-09, 9.99999762e-01],\n",
       "        [9.85632651e-04, 7.88697183e-01, 2.10312262e-01, 4.85113878e-06],\n",
       "        [9.96352077e-01, 4.30818254e-05, 2.45008850e-03, 1.15479785e-03],\n",
       "        [2.10398357e-04, 9.99567211e-01, 1.92963984e-04, 2.93812500e-05],\n",
       "        [2.77045160e-08, 1.00000000e+00, 2.98031040e-08, 1.10680909e-10],\n",
       "        [3.14388526e-05, 9.99922633e-01, 4.58825052e-05, 4.86018159e-09],\n",
       "        [6.21404324e-04, 9.74624991e-01, 4.07031839e-05, 2.47128811e-02],\n",
       "        [2.07734816e-02, 9.76568341e-01, 2.63104518e-03, 2.71606114e-05],\n",
       "        [2.28321739e-02, 5.81064015e-08, 9.77145910e-01, 2.18031546e-05],\n",
       "        [9.83692169e-01, 2.33201799e-03, 4.74908203e-03, 9.22670960e-03],\n",
       "        [2.71036765e-06, 1.14350851e-05, 6.98339354e-05, 9.99915957e-01],\n",
       "        [8.04933012e-02, 8.30269801e-06, 9.17522788e-01, 1.97554147e-03],\n",
       "        [9.58258986e-01, 5.33351908e-03, 6.12886343e-03, 3.02786659e-02],\n",
       "        [1.24005012e-07, 9.99999762e-01, 8.16880217e-08, 1.70799944e-10],\n",
       "        [8.97264183e-01, 1.24235013e-02, 3.01250722e-03, 8.72998759e-02],\n",
       "        [5.72507361e-07, 9.99871492e-01, 1.27931722e-04, 2.62117550e-10],\n",
       "        [2.10604778e-09, 1.00000000e+00, 3.55066661e-08, 4.11326268e-12],\n",
       "        [1.24601807e-09, 1.00000000e+00, 1.11249943e-08, 1.63486558e-10],\n",
       "        [3.66075028e-08, 9.99999881e-01, 1.32245475e-07, 3.57585683e-10],\n",
       "        [9.99889493e-01, 4.34573212e-06, 3.94084827e-06, 1.02158323e-04],\n",
       "        [7.27249727e-08, 9.99999642e-01, 3.01400860e-08, 2.09700843e-07],\n",
       "        [6.17573000e-02, 7.07014278e-02, 1.48060266e-03, 8.66060734e-01],\n",
       "        [5.36769629e-01, 3.15136641e-01, 1.29926503e-01, 1.81671549e-02],\n",
       "        [1.34507200e-05, 9.76000010e-05, 9.99888897e-01, 3.31437811e-08],\n",
       "        [4.70477453e-08, 9.99999881e-01, 2.98442835e-08, 1.66166927e-10],\n",
       "        [1.18268225e-02, 5.31593636e-02, 9.35011923e-01, 1.96001338e-06],\n",
       "        [7.86984572e-04, 9.93593156e-01, 5.42988861e-03, 1.90042352e-04],\n",
       "        [2.22183007e-06, 9.99698877e-01, 2.98777013e-04, 6.76570906e-08],\n",
       "        [5.98396036e-06, 9.99990702e-01, 7.17389071e-07, 2.59767239e-06],\n",
       "        [9.59483504e-01, 2.68549734e-08, 3.18190712e-03, 3.73344868e-02],\n",
       "        [8.41219793e-04, 9.93112981e-01, 6.02121418e-03, 2.46508480e-05],\n",
       "        [7.97136920e-07, 9.99996066e-01, 3.19183664e-06, 1.47834844e-09],\n",
       "        [1.81602100e-09, 9.99999404e-01, 5.42561963e-07, 4.89437353e-12],\n",
       "        [3.38498533e-01, 1.05590618e-03, 3.20748165e-02, 6.28370762e-01],\n",
       "        [2.30469032e-05, 9.91820812e-01, 8.15123133e-03, 4.97239716e-06],\n",
       "        [2.11115239e-05, 1.35426751e-06, 3.25836550e-06, 9.99974370e-01],\n",
       "        [2.20787333e-05, 9.98994291e-01, 9.82276979e-04, 1.31670060e-06],\n",
       "        [8.58450308e-02, 2.52037853e-01, 6.58851266e-01, 3.26585164e-03],\n",
       "        [9.86587565e-07, 9.99993443e-01, 5.54760618e-06, 2.70285405e-10],\n",
       "        [3.26114476e-01, 6.46568718e-04, 1.24373673e-05, 6.73226595e-01],\n",
       "        [1.38615133e-05, 9.99980330e-01, 5.83064457e-06, 1.02811570e-09],\n",
       "        [2.09861750e-09, 5.39422622e-08, 1.01393578e-08, 1.00000000e+00],\n",
       "        [5.91544621e-03, 2.29784176e-02, 9.70023930e-01, 1.08220731e-03],\n",
       "        [1.86476938e-03, 4.34107846e-03, 4.20618133e-04, 9.93373513e-01],\n",
       "        [1.72676742e-01, 1.65890008e-02, 7.83678055e-01, 2.70562489e-02],\n",
       "        [7.06617982e-08, 9.99999881e-01, 2.94397076e-08, 1.22331967e-08],\n",
       "        [8.45064392e-08, 4.74026196e-09, 3.66296948e-09, 9.99999881e-01],\n",
       "        [1.45392130e-06, 5.80295637e-05, 9.99940515e-01, 3.23763660e-09],\n",
       "        [9.72054183e-01, 7.45789963e-04, 7.17818970e-03, 2.00218353e-02],\n",
       "        [9.99803126e-01, 6.16355067e-07, 5.19869573e-05, 1.44331803e-04],\n",
       "        [6.79956372e-07, 6.17994203e-07, 1.69177540e-07, 9.99998569e-01],\n",
       "        [7.24005133e-07, 2.94526967e-06, 4.48765149e-06, 9.99991775e-01],\n",
       "        [7.27249727e-08, 9.99999642e-01, 3.01400860e-08, 2.09700843e-07],\n",
       "        [1.01193634e-03, 9.95339513e-01, 3.53859295e-03, 1.10005516e-04],\n",
       "        [1.14282650e-12, 1.00000000e+00, 2.86992190e-08, 3.45043482e-12],\n",
       "        [7.85084103e-06, 9.99957561e-01, 3.56481041e-06, 3.09757015e-05],\n",
       "        [9.18724691e-04, 9.98651564e-01, 4.28548810e-04, 1.16068304e-06],\n",
       "        [1.01631704e-05, 9.60903287e-01, 3.90864909e-02, 3.68780229e-10],\n",
       "        [5.57319652e-07, 9.99972939e-01, 2.65172694e-05, 3.10974091e-09],\n",
       "        [5.52611367e-04, 1.28264755e-05, 9.99434531e-01, 2.15771827e-08],\n",
       "        [6.69042038e-07, 9.99998808e-01, 3.43584077e-07, 1.93749713e-07],\n",
       "        [8.35706082e-09, 9.99317050e-01, 6.82375685e-04, 5.81839458e-07],\n",
       "        [4.67714528e-03, 1.14486828e-01, 5.98388910e-01, 2.82447100e-01],\n",
       "        [3.51902872e-01, 1.25367776e-03, 6.44972265e-01, 1.87120528e-03],\n",
       "        [6.03840547e-03, 9.30612624e-01, 6.32542893e-02, 9.47744338e-05],\n",
       "        [2.48469332e-05, 1.49557739e-03, 4.16221912e-04, 9.98063385e-01],\n",
       "        [9.94302392e-01, 1.21459503e-04, 4.68274578e-03, 8.93336372e-04],\n",
       "        [7.34603465e-01, 7.67502096e-03, 2.57674873e-01, 4.67242571e-05],\n",
       "        [8.70907068e-01, 1.24964267e-01, 2.59819278e-03, 1.53043726e-03]],\n",
       "       dtype=float32),\n",
       " (241, 4))"
      ]
     },
     "execution_count": 55,
     "metadata": {},
     "output_type": "execute_result"
    }
   ],
   "source": [
    "y_pred = model.predict(test_set)\n",
    "y_pred,y_pred.shape"
   ]
  },
  {
   "cell_type": "code",
   "execution_count": 35,
   "id": "6d63e7af-4cea-4b6b-b87b-e5c8d4095448",
   "metadata": {},
   "outputs": [],
   "source": [
    "predicted_categories = tf.argmax(y_pred,axis=1)"
   ]
  },
  {
   "cell_type": "code",
   "execution_count": 36,
   "id": "b6ea02b9-95c0-438d-be0d-750d893c93e8",
   "metadata": {},
   "outputs": [
    {
     "data": {
      "text/plain": [
       "<tf.Tensor: shape=(241,), dtype=int64, numpy=\n",
       "array([1, 1, 3, 1, 2, 3, 1, 1, 1, 3, 1, 1, 1, 1, 0, 0, 2, 0, 0, 3, 1, 1,\n",
       "       1, 2, 1, 1, 1, 1, 1, 1, 1, 0, 1, 1, 1, 1, 1, 1, 2, 1, 1, 1, 3, 1,\n",
       "       0, 0, 2, 0, 1, 0, 1, 2, 2, 1, 1, 1, 1, 1, 0, 3, 1, 1, 0, 2, 3, 1,\n",
       "       1, 1, 1, 2, 1, 0, 0, 0, 1, 1, 0, 0, 1, 1, 1, 1, 3, 1, 1, 1, 1, 3,\n",
       "       1, 0, 1, 1, 1, 1, 1, 1, 1, 1, 3, 2, 1, 3, 1, 0, 0, 1, 1, 1, 1, 3,\n",
       "       1, 2, 1, 1, 1, 1, 1, 1, 0, 1, 3, 1, 1, 1, 3, 1, 0, 1, 1, 1, 3, 0,\n",
       "       0, 3, 1, 0, 1, 3, 1, 1, 1, 2, 2, 1, 1, 3, 1, 3, 0, 3, 1, 1, 1, 0,\n",
       "       1, 1, 3, 1, 1, 1, 1, 0, 1, 1, 0, 2, 1, 1, 1, 1, 2, 1, 0, 1, 1, 0,\n",
       "       1, 3, 3, 2, 1, 0, 1, 1, 0, 1, 1, 1, 1, 1, 3, 0, 0, 1, 3, 0, 1, 1,\n",
       "       1, 0, 0, 1, 0, 0, 1, 0, 0, 1, 1, 3, 0, 0, 3, 1, 1, 3, 1, 1, 1, 0,\n",
       "       3, 0, 1, 0, 3, 3, 3, 1, 3, 3, 0, 1, 3, 1, 0, 1, 1, 0, 1, 3, 1])>"
      ]
     },
     "execution_count": 36,
     "metadata": {},
     "output_type": "execute_result"
    }
   ],
   "source": [
    "predicted_categories"
   ]
  },
  {
   "cell_type": "code",
   "execution_count": 37,
   "id": "44361813-0209-45fd-a7b6-fa6a121ee4dd",
   "metadata": {},
   "outputs": [
    {
     "data": {
      "text/plain": [
       "<tf.Tensor: shape=(241, 4), dtype=float32, numpy=\n",
       "array([[0., 0., 0., 1.],\n",
       "       [0., 0., 0., 1.],\n",
       "       [0., 1., 0., 0.],\n",
       "       [1., 0., 0., 0.],\n",
       "       [0., 0., 0., 1.],\n",
       "       [0., 0., 0., 1.],\n",
       "       [0., 1., 0., 0.],\n",
       "       [0., 0., 0., 1.],\n",
       "       [0., 0., 0., 1.],\n",
       "       [0., 0., 0., 1.],\n",
       "       [0., 0., 0., 1.],\n",
       "       [0., 0., 0., 1.],\n",
       "       [0., 0., 0., 1.],\n",
       "       [0., 0., 0., 1.],\n",
       "       [0., 0., 0., 1.],\n",
       "       [0., 0., 0., 1.],\n",
       "       [0., 1., 0., 0.],\n",
       "       [0., 0., 0., 1.],\n",
       "       [0., 0., 0., 1.],\n",
       "       [0., 0., 0., 1.],\n",
       "       [0., 0., 0., 1.],\n",
       "       [0., 0., 0., 1.],\n",
       "       [0., 0., 0., 1.],\n",
       "       [1., 0., 0., 0.],\n",
       "       [1., 0., 0., 0.],\n",
       "       [0., 1., 0., 0.],\n",
       "       [0., 0., 0., 1.],\n",
       "       [0., 1., 0., 0.],\n",
       "       [0., 0., 0., 1.],\n",
       "       [1., 0., 0., 0.],\n",
       "       [0., 1., 0., 0.],\n",
       "       [1., 0., 0., 0.],\n",
       "       [1., 0., 0., 0.],\n",
       "       [0., 0., 0., 1.],\n",
       "       [0., 0., 0., 1.],\n",
       "       [0., 0., 0., 1.],\n",
       "       [0., 1., 0., 0.],\n",
       "       [0., 0., 0., 1.],\n",
       "       [0., 0., 0., 1.],\n",
       "       [0., 0., 0., 1.],\n",
       "       [1., 0., 0., 0.],\n",
       "       [0., 0., 0., 1.],\n",
       "       [0., 0., 0., 1.],\n",
       "       [0., 1., 0., 0.],\n",
       "       [0., 1., 0., 0.],\n",
       "       [0., 1., 0., 0.],\n",
       "       [0., 0., 0., 1.],\n",
       "       [0., 0., 0., 1.],\n",
       "       [0., 1., 0., 0.],\n",
       "       [0., 1., 0., 0.],\n",
       "       [0., 1., 0., 0.],\n",
       "       [1., 0., 0., 0.],\n",
       "       [0., 0., 0., 1.],\n",
       "       [0., 1., 0., 0.],\n",
       "       [1., 0., 0., 0.],\n",
       "       [0., 0., 0., 1.],\n",
       "       [0., 0., 0., 1.],\n",
       "       [0., 1., 0., 0.],\n",
       "       [0., 1., 0., 0.],\n",
       "       [0., 0., 0., 1.],\n",
       "       [0., 0., 0., 1.],\n",
       "       [0., 1., 0., 0.],\n",
       "       [0., 1., 0., 0.],\n",
       "       [0., 1., 0., 0.],\n",
       "       [0., 1., 0., 0.],\n",
       "       [0., 0., 0., 1.],\n",
       "       [0., 0., 0., 1.],\n",
       "       [0., 0., 0., 1.],\n",
       "       [0., 0., 0., 1.],\n",
       "       [1., 0., 0., 0.],\n",
       "       [0., 1., 0., 0.],\n",
       "       [0., 0., 0., 1.],\n",
       "       [0., 1., 0., 0.],\n",
       "       [0., 1., 0., 0.],\n",
       "       [0., 1., 0., 0.],\n",
       "       [0., 1., 0., 0.],\n",
       "       [0., 1., 0., 0.],\n",
       "       [0., 0., 0., 1.],\n",
       "       [0., 0., 0., 1.],\n",
       "       [1., 0., 0., 0.],\n",
       "       [0., 1., 0., 0.],\n",
       "       [1., 0., 0., 0.],\n",
       "       [1., 0., 0., 0.],\n",
       "       [0., 0., 0., 1.],\n",
       "       [1., 0., 0., 0.],\n",
       "       [1., 0., 0., 0.],\n",
       "       [0., 0., 0., 1.],\n",
       "       [1., 0., 0., 0.],\n",
       "       [0., 1., 0., 0.],\n",
       "       [0., 0., 0., 1.],\n",
       "       [0., 0., 0., 1.],\n",
       "       [0., 0., 0., 1.],\n",
       "       [0., 0., 0., 1.],\n",
       "       [0., 0., 0., 1.],\n",
       "       [0., 0., 0., 1.],\n",
       "       [0., 0., 0., 1.],\n",
       "       [0., 0., 0., 1.],\n",
       "       [0., 0., 0., 1.],\n",
       "       [0., 0., 0., 1.],\n",
       "       [0., 1., 0., 0.],\n",
       "       [0., 0., 0., 1.],\n",
       "       [0., 0., 0., 1.],\n",
       "       [0., 0., 0., 1.],\n",
       "       [1., 0., 0., 0.],\n",
       "       [0., 1., 0., 0.],\n",
       "       [0., 1., 0., 0.],\n",
       "       [0., 0., 0., 1.],\n",
       "       [1., 0., 0., 0.],\n",
       "       [0., 0., 0., 1.],\n",
       "       [1., 0., 0., 0.],\n",
       "       [0., 0., 0., 1.],\n",
       "       [0., 0., 0., 1.],\n",
       "       [0., 1., 0., 0.],\n",
       "       [0., 0., 0., 1.],\n",
       "       [0., 0., 0., 1.],\n",
       "       [0., 0., 0., 1.],\n",
       "       [0., 0., 0., 1.],\n",
       "       [0., 0., 0., 1.],\n",
       "       [0., 1., 0., 0.],\n",
       "       [1., 0., 0., 0.],\n",
       "       [0., 0., 0., 1.],\n",
       "       [0., 0., 0., 1.],\n",
       "       [1., 0., 0., 0.],\n",
       "       [0., 0., 0., 1.],\n",
       "       [0., 0., 0., 1.],\n",
       "       [0., 0., 0., 1.],\n",
       "       [0., 0., 0., 1.],\n",
       "       [0., 0., 0., 1.],\n",
       "       [0., 0., 0., 1.],\n",
       "       [0., 0., 0., 1.],\n",
       "       [1., 0., 0., 0.],\n",
       "       [0., 0., 0., 1.],\n",
       "       [1., 0., 0., 0.],\n",
       "       [0., 0., 0., 1.],\n",
       "       [0., 0., 0., 1.],\n",
       "       [0., 0., 0., 1.],\n",
       "       [0., 0., 0., 1.],\n",
       "       [1., 0., 0., 0.],\n",
       "       [1., 0., 0., 0.],\n",
       "       [1., 0., 0., 0.],\n",
       "       [0., 0., 0., 1.],\n",
       "       [0., 0., 0., 1.],\n",
       "       [0., 0., 0., 1.],\n",
       "       [0., 1., 0., 0.],\n",
       "       [0., 0., 0., 1.],\n",
       "       [0., 0., 0., 1.],\n",
       "       [0., 0., 0., 1.],\n",
       "       [0., 0., 0., 1.],\n",
       "       [0., 0., 0., 1.],\n",
       "       [0., 1., 0., 0.],\n",
       "       [1., 0., 0., 0.],\n",
       "       [0., 0., 0., 1.],\n",
       "       [0., 0., 0., 1.],\n",
       "       [0., 0., 0., 1.],\n",
       "       [0., 1., 0., 0.],\n",
       "       [0., 0., 0., 1.],\n",
       "       [0., 0., 0., 1.],\n",
       "       [0., 0., 0., 1.],\n",
       "       [0., 1., 0., 0.],\n",
       "       [0., 1., 0., 0.],\n",
       "       [0., 0., 0., 1.],\n",
       "       [0., 0., 0., 1.],\n",
       "       [0., 0., 0., 1.],\n",
       "       [0., 0., 0., 1.],\n",
       "       [1., 0., 0., 0.],\n",
       "       [0., 1., 0., 0.],\n",
       "       [0., 0., 0., 1.],\n",
       "       [0., 0., 0., 1.],\n",
       "       [0., 0., 0., 1.],\n",
       "       [0., 0., 0., 1.],\n",
       "       [0., 1., 0., 0.],\n",
       "       [0., 0., 0., 1.],\n",
       "       [0., 0., 0., 1.],\n",
       "       [0., 0., 0., 1.],\n",
       "       [0., 0., 0., 1.],\n",
       "       [0., 1., 0., 0.],\n",
       "       [0., 1., 0., 0.],\n",
       "       [0., 0., 0., 1.],\n",
       "       [0., 0., 0., 1.],\n",
       "       [0., 0., 0., 1.],\n",
       "       [1., 0., 0., 0.],\n",
       "       [0., 0., 0., 1.],\n",
       "       [0., 0., 0., 1.],\n",
       "       [0., 0., 0., 1.],\n",
       "       [0., 0., 0., 1.],\n",
       "       [1., 0., 0., 0.],\n",
       "       [0., 0., 0., 1.],\n",
       "       [0., 1., 0., 0.],\n",
       "       [1., 0., 0., 0.],\n",
       "       [0., 0., 0., 1.],\n",
       "       [0., 1., 0., 0.],\n",
       "       [0., 0., 0., 1.],\n",
       "       [0., 0., 0., 1.],\n",
       "       [0., 0., 0., 1.],\n",
       "       [0., 0., 0., 1.],\n",
       "       [0., 1., 0., 0.],\n",
       "       [1., 0., 0., 0.],\n",
       "       [0., 0., 0., 1.],\n",
       "       [0., 0., 0., 1.],\n",
       "       [0., 0., 0., 1.],\n",
       "       [0., 1., 0., 0.],\n",
       "       [1., 0., 0., 0.],\n",
       "       [0., 0., 0., 1.],\n",
       "       [0., 0., 0., 1.],\n",
       "       [0., 1., 0., 0.],\n",
       "       [1., 0., 0., 0.],\n",
       "       [0., 1., 0., 0.],\n",
       "       [0., 0., 0., 1.],\n",
       "       [0., 1., 0., 0.],\n",
       "       [0., 1., 0., 0.],\n",
       "       [0., 1., 0., 0.],\n",
       "       [0., 1., 0., 0.],\n",
       "       [1., 0., 0., 0.],\n",
       "       [0., 0., 0., 1.],\n",
       "       [1., 0., 0., 0.],\n",
       "       [1., 0., 0., 0.],\n",
       "       [0., 0., 0., 1.],\n",
       "       [0., 0., 0., 1.],\n",
       "       [0., 1., 0., 0.],\n",
       "       [0., 0., 0., 1.],\n",
       "       [0., 0., 0., 1.],\n",
       "       [0., 0., 0., 1.],\n",
       "       [0., 0., 0., 1.],\n",
       "       [1., 0., 0., 0.],\n",
       "       [0., 1., 0., 0.],\n",
       "       [0., 0., 0., 1.],\n",
       "       [1., 0., 0., 0.],\n",
       "       [0., 1., 0., 0.],\n",
       "       [1., 0., 0., 0.],\n",
       "       [0., 0., 0., 1.],\n",
       "       [0., 1., 0., 0.],\n",
       "       [0., 0., 0., 1.],\n",
       "       [0., 0., 0., 1.],\n",
       "       [0., 0., 0., 1.],\n",
       "       [0., 1., 0., 0.],\n",
       "       [0., 0., 0., 1.],\n",
       "       [0., 0., 0., 1.],\n",
       "       [0., 1., 0., 0.],\n",
       "       [0., 0., 0., 1.],\n",
       "       [0., 0., 0., 1.],\n",
       "       [0., 0., 0., 1.]], dtype=float32)>"
      ]
     },
     "execution_count": 37,
     "metadata": {},
     "output_type": "execute_result"
    }
   ],
   "source": [
    "true_categories = tf.concat([y for x,y in test_set],axis=0)\n",
    "true_categories"
   ]
  },
  {
   "cell_type": "code",
   "execution_count": 38,
   "id": "59ba136a-4f16-4e83-908d-c53a8785e25a",
   "metadata": {},
   "outputs": [
    {
     "data": {
      "text/plain": [
       "<tf.Tensor: shape=(241,), dtype=int64, numpy=\n",
       "array([3, 3, 1, 0, 3, 3, 1, 3, 3, 3, 3, 3, 3, 3, 3, 3, 1, 3, 3, 3, 3, 3,\n",
       "       3, 0, 0, 1, 3, 1, 3, 0, 1, 0, 0, 3, 3, 3, 1, 3, 3, 3, 0, 3, 3, 1,\n",
       "       1, 1, 3, 3, 1, 1, 1, 0, 3, 1, 0, 3, 3, 1, 1, 3, 3, 1, 1, 1, 1, 3,\n",
       "       3, 3, 3, 0, 1, 3, 1, 1, 1, 1, 1, 3, 3, 0, 1, 0, 0, 3, 0, 0, 3, 0,\n",
       "       1, 3, 3, 3, 3, 3, 3, 3, 3, 3, 3, 1, 3, 3, 3, 0, 1, 1, 3, 0, 3, 0,\n",
       "       3, 3, 1, 3, 3, 3, 3, 3, 1, 0, 3, 3, 0, 3, 3, 3, 3, 3, 3, 3, 0, 3,\n",
       "       0, 3, 3, 3, 3, 0, 0, 0, 3, 3, 3, 1, 3, 3, 3, 3, 3, 1, 0, 3, 3, 3,\n",
       "       1, 3, 3, 3, 1, 1, 3, 3, 3, 3, 0, 1, 3, 3, 3, 3, 1, 3, 3, 3, 3, 1,\n",
       "       1, 3, 3, 3, 0, 3, 3, 3, 3, 0, 3, 1, 0, 3, 1, 3, 3, 3, 3, 1, 0, 3,\n",
       "       3, 3, 1, 0, 3, 3, 1, 0, 1, 3, 1, 1, 1, 1, 0, 3, 0, 0, 3, 3, 1, 3,\n",
       "       3, 3, 3, 0, 1, 3, 0, 1, 0, 3, 1, 3, 3, 3, 1, 3, 3, 1, 3, 3, 3])>"
      ]
     },
     "execution_count": 38,
     "metadata": {},
     "output_type": "execute_result"
    }
   ],
   "source": [
    "Y_true = tf.argmax(true_categories,axis=1)\n",
    "Y_true"
   ]
  },
  {
   "cell_type": "code",
   "execution_count": null,
   "id": "57bc58ad-eaed-4887-8b00-215bc4c88064",
   "metadata": {},
   "outputs": [],
   "source": []
  },
  {
   "cell_type": "code",
   "execution_count": 39,
   "id": "d86f765d-3429-4e86-891d-9d1968aa6e19",
   "metadata": {},
   "outputs": [],
   "source": [
    "from sklearn.metrics import classification_report , confusion_matrix"
   ]
  },
  {
   "cell_type": "code",
   "execution_count": 40,
   "id": "390d0616-6896-4933-a4e5-db0c068462a7",
   "metadata": {},
   "outputs": [
    {
     "name": "stdout",
     "output_type": "stream",
     "text": [
      "                  precision    recall  f1-score   support\n",
      "\n",
      "bacterial_blight       0.12      0.15      0.13        40\n",
      "      curl_virus       0.20      0.48      0.28        58\n",
      "  fussarium_wilt       0.00      0.00      0.00         0\n",
      "         healthy       0.58      0.15      0.23       143\n",
      "\n",
      "        accuracy                           0.23       241\n",
      "       macro avg       0.23      0.19      0.16       241\n",
      "    weighted avg       0.41      0.23      0.23       241\n",
      "\n"
     ]
    },
    {
     "name": "stderr",
     "output_type": "stream",
     "text": [
      "c:\\Users\\david\\Code\\Cotton\\envVir\\Lib\\site-packages\\sklearn\\metrics\\_classification.py:1565: UndefinedMetricWarning: Recall is ill-defined and being set to 0.0 in labels with no true samples. Use `zero_division` parameter to control this behavior.\n",
      "  _warn_prf(average, modifier, f\"{metric.capitalize()} is\", len(result))\n",
      "c:\\Users\\david\\Code\\Cotton\\envVir\\Lib\\site-packages\\sklearn\\metrics\\_classification.py:1565: UndefinedMetricWarning: Recall is ill-defined and being set to 0.0 in labels with no true samples. Use `zero_division` parameter to control this behavior.\n",
      "  _warn_prf(average, modifier, f\"{metric.capitalize()} is\", len(result))\n",
      "c:\\Users\\david\\Code\\Cotton\\envVir\\Lib\\site-packages\\sklearn\\metrics\\_classification.py:1565: UndefinedMetricWarning: Recall is ill-defined and being set to 0.0 in labels with no true samples. Use `zero_division` parameter to control this behavior.\n",
      "  _warn_prf(average, modifier, f\"{metric.capitalize()} is\", len(result))\n"
     ]
    }
   ],
   "source": [
    "print(classification_report(Y_true,predicted_categories,target_names=class_name))"
   ]
  },
  {
   "cell_type": "code",
   "execution_count": 41,
   "id": "e33a4e42-34a8-4d66-9c35-c2cb0ee42695",
   "metadata": {},
   "outputs": [
    {
     "data": {
      "text/plain": [
       "array([[ 6, 22,  3,  9],\n",
       "       [19, 28,  5,  6],\n",
       "       [ 0,  0,  0,  0],\n",
       "       [24, 90,  8, 21]])"
      ]
     },
     "execution_count": 41,
     "metadata": {},
     "output_type": "execute_result"
    }
   ],
   "source": [
    "cm= confusion_matrix(Y_true,predicted_categories)\n",
    "cm"
   ]
  },
  {
   "cell_type": "code",
   "execution_count": null,
   "id": "92859332-e59f-4aab-9c0f-12470548ac48",
   "metadata": {},
   "outputs": [],
   "source": []
  },
  {
   "cell_type": "markdown",
   "id": "025510dc-8b29-4e53-9e9e-b397be875573",
   "metadata": {},
   "source": [
    "## Confusin Matrix Visualization"
   ]
  },
  {
   "cell_type": "code",
   "execution_count": 42,
   "id": "f9322ade-6742-4e4b-968e-6d38e1bb6f1d",
   "metadata": {},
   "outputs": [
    {
     "data": {
      "text/plain": [
       "<Axes: >"
      ]
     },
     "execution_count": 42,
     "metadata": {},
     "output_type": "execute_result"
    },
    {
     "data": {
      "image/png": "[encoded data removed]",
      "text/plain": [
       "<Figure size 1000x1000 with 2 Axes>"
      ]
     },
     "metadata": {},
     "output_type": "display_data"
    }
   ],
   "source": [
    "plt.figure(figsize=(10,10))\n",
    "sns.heatmap(cm,annot=True)"
   ]
  },
  {
   "cell_type": "code",
   "execution_count": null,
   "id": "e5a74147-c730-45ec-bb47-8f6e7ffad2f1",
   "metadata": {},
   "outputs": [],
   "source": []
  }
 ],
 "metadata": {
  "kernelspec": {
   "display_name": "envVir",
   "language": "python",
   "name": "python3"
  },
  "language_info": {
   "codemirror_mode": {
    "name": "ipython",
    "version": 3
   },
   "file_extension": ".py",
   "mimetype": "text/x-python",
   "name": "python",
   "nbconvert_exporter": "python",
   "pygments_lexer": "ipython3",
   "version": "3.11.0"
  }
 },
 "nbformat": 4,
 "nbformat_minor": 5
}
